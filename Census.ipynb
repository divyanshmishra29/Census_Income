{
  "nbformat": 4,
  "nbformat_minor": 0,
  "metadata": {
    "colab": {
      "name": "Untitled37.ipynb",
      "provenance": []
    },
    "kernelspec": {
      "name": "python3",
      "display_name": "Python 3"
    }
  },
  "cells": [
    {
      "cell_type": "code",
      "metadata": {
        "id": "AbS5B9aLiB8s",
        "colab_type": "code",
        "colab": {}
      },
      "source": [
        "import pandas as pd\n",
        "import numpy as np\n",
        "import seaborn as sns\n",
        "import matplotlib.pyplot as plt\n",
        "from sklearn.model_selection import train_test_split\n",
        "from sklearn.tree import DecisionTreeClassifier\n",
        "from sklearn.ensemble import RandomForestClassifier\n",
        "from sklearn.linear_model import LogisticRegression\n",
        "from sklearn.svm import SVC\n",
        "from sklearn.neighbors import KNeighborsClassifier"
      ],
      "execution_count": 141,
      "outputs": []
    },
    {
      "cell_type": "code",
      "metadata": {
        "id": "Y8jEswOeirdM",
        "colab_type": "code",
        "colab": {}
      },
      "source": [
        "census_data = pd.read_csv(\"https://raw.githubusercontent.com/dphi-official/Datasets/master/Census_Income/Training_set_census.csv\" )"
      ],
      "execution_count": 5,
      "outputs": []
    },
    {
      "cell_type": "code",
      "metadata": {
        "id": "oCGDrwoxjI_j",
        "colab_type": "code",
        "colab": {
          "base_uri": "https://localhost:8080/",
          "height": 430
        },
        "outputId": "5a65927d-6340-4905-864a-642a28b27898"
      },
      "source": [
        "census_data.head()"
      ],
      "execution_count": 6,
      "outputs": [
        {
          "output_type": "execute_result",
          "data": {
            "text/html": [
              "<div>\n",
              "<style scoped>\n",
              "    .dataframe tbody tr th:only-of-type {\n",
              "        vertical-align: middle;\n",
              "    }\n",
              "\n",
              "    .dataframe tbody tr th {\n",
              "        vertical-align: top;\n",
              "    }\n",
              "\n",
              "    .dataframe thead th {\n",
              "        text-align: right;\n",
              "    }\n",
              "</style>\n",
              "<table border=\"1\" class=\"dataframe\">\n",
              "  <thead>\n",
              "    <tr style=\"text-align: right;\">\n",
              "      <th></th>\n",
              "      <th>age</th>\n",
              "      <th>class_of_worker</th>\n",
              "      <th>industry_code</th>\n",
              "      <th>occupation_code</th>\n",
              "      <th>education</th>\n",
              "      <th>wage_per_hour</th>\n",
              "      <th>enrolled_in_edu_inst_lastwk</th>\n",
              "      <th>marital_status</th>\n",
              "      <th>major_industry_code</th>\n",
              "      <th>major_occupation_code</th>\n",
              "      <th>race</th>\n",
              "      <th>hispanic_origin</th>\n",
              "      <th>sex</th>\n",
              "      <th>member_of_labor_union</th>\n",
              "      <th>reason_for_unemployment</th>\n",
              "      <th>full_parttime_employment_stat</th>\n",
              "      <th>capital_gains</th>\n",
              "      <th>capital_losses</th>\n",
              "      <th>dividend_from_Stocks</th>\n",
              "      <th>tax_filer_status</th>\n",
              "      <th>region_of_previous_residence</th>\n",
              "      <th>state_of_previous_residence</th>\n",
              "      <th>d_household_family_stat</th>\n",
              "      <th>d_household_summary</th>\n",
              "      <th>migration_msa</th>\n",
              "      <th>migration_reg</th>\n",
              "      <th>migration_within_reg</th>\n",
              "      <th>live_1_year_ago</th>\n",
              "      <th>migration_sunbelt</th>\n",
              "      <th>num_person_Worked_employer</th>\n",
              "      <th>family_members_under_18</th>\n",
              "      <th>country_father</th>\n",
              "      <th>country_mother</th>\n",
              "      <th>country_self</th>\n",
              "      <th>citizenship</th>\n",
              "      <th>business_or_self_employed</th>\n",
              "      <th>fill_questionnaire_veteran_admin</th>\n",
              "      <th>veterans_benefits</th>\n",
              "      <th>weeks_worked_in_year</th>\n",
              "      <th>year</th>\n",
              "      <th>income_level</th>\n",
              "    </tr>\n",
              "  </thead>\n",
              "  <tbody>\n",
              "    <tr>\n",
              "      <th>0</th>\n",
              "      <td>23</td>\n",
              "      <td>Private</td>\n",
              "      <td>43</td>\n",
              "      <td>22</td>\n",
              "      <td>Some college but no degree</td>\n",
              "      <td>0</td>\n",
              "      <td>College or university</td>\n",
              "      <td>Never married</td>\n",
              "      <td>Education</td>\n",
              "      <td>Adm support including clerical</td>\n",
              "      <td>White</td>\n",
              "      <td>All other</td>\n",
              "      <td>Male</td>\n",
              "      <td>Not in universe</td>\n",
              "      <td>Not in universe</td>\n",
              "      <td>Full-time schedules</td>\n",
              "      <td>0</td>\n",
              "      <td>0</td>\n",
              "      <td>0</td>\n",
              "      <td>Single</td>\n",
              "      <td>Not in universe</td>\n",
              "      <td>Not in universe</td>\n",
              "      <td>Child 18+ never marr Not in a subfamily</td>\n",
              "      <td>Child 18 or older</td>\n",
              "      <td>NaN</td>\n",
              "      <td>NaN</td>\n",
              "      <td>NaN</td>\n",
              "      <td>Not in universe under 1 year old</td>\n",
              "      <td>NaN</td>\n",
              "      <td>4</td>\n",
              "      <td>Not in universe</td>\n",
              "      <td>Peru</td>\n",
              "      <td>Peru</td>\n",
              "      <td>United-States</td>\n",
              "      <td>Native- Born in the United States</td>\n",
              "      <td>0</td>\n",
              "      <td>Not in universe</td>\n",
              "      <td>2</td>\n",
              "      <td>30</td>\n",
              "      <td>95</td>\n",
              "      <td>0</td>\n",
              "    </tr>\n",
              "    <tr>\n",
              "      <th>1</th>\n",
              "      <td>24</td>\n",
              "      <td>Private</td>\n",
              "      <td>34</td>\n",
              "      <td>2</td>\n",
              "      <td>Bachelors degree(BA AB BS)</td>\n",
              "      <td>0</td>\n",
              "      <td>Not in universe</td>\n",
              "      <td>Never married</td>\n",
              "      <td>Finance insurance and real estate</td>\n",
              "      <td>Executive admin and managerial</td>\n",
              "      <td>White</td>\n",
              "      <td>All other</td>\n",
              "      <td>Male</td>\n",
              "      <td>No</td>\n",
              "      <td>Not in universe</td>\n",
              "      <td>Children or Armed Forces</td>\n",
              "      <td>0</td>\n",
              "      <td>0</td>\n",
              "      <td>0</td>\n",
              "      <td>Single</td>\n",
              "      <td>West</td>\n",
              "      <td>California</td>\n",
              "      <td>Nonfamily householder</td>\n",
              "      <td>Householder</td>\n",
              "      <td>MSA to MSA</td>\n",
              "      <td>Different county same state</td>\n",
              "      <td>Different county same state</td>\n",
              "      <td>No</td>\n",
              "      <td>No</td>\n",
              "      <td>4</td>\n",
              "      <td>Not in universe</td>\n",
              "      <td>United-States</td>\n",
              "      <td>United-States</td>\n",
              "      <td>United-States</td>\n",
              "      <td>Native- Born in the United States</td>\n",
              "      <td>0</td>\n",
              "      <td>Not in universe</td>\n",
              "      <td>2</td>\n",
              "      <td>26</td>\n",
              "      <td>94</td>\n",
              "      <td>0</td>\n",
              "    </tr>\n",
              "    <tr>\n",
              "      <th>2</th>\n",
              "      <td>38</td>\n",
              "      <td>Private</td>\n",
              "      <td>34</td>\n",
              "      <td>2</td>\n",
              "      <td>Masters degree(MA MS MEng MEd MSW MBA)</td>\n",
              "      <td>0</td>\n",
              "      <td>Not in universe</td>\n",
              "      <td>Married-civilian spouse present</td>\n",
              "      <td>Finance insurance and real estate</td>\n",
              "      <td>Executive admin and managerial</td>\n",
              "      <td>White</td>\n",
              "      <td>All other</td>\n",
              "      <td>Male</td>\n",
              "      <td>Not in universe</td>\n",
              "      <td>Not in universe</td>\n",
              "      <td>Children or Armed Forces</td>\n",
              "      <td>0</td>\n",
              "      <td>0</td>\n",
              "      <td>250</td>\n",
              "      <td>Joint both under 65</td>\n",
              "      <td>Not in universe</td>\n",
              "      <td>Not in universe</td>\n",
              "      <td>Householder</td>\n",
              "      <td>Householder</td>\n",
              "      <td>Nonmover</td>\n",
              "      <td>Nonmover</td>\n",
              "      <td>Nonmover</td>\n",
              "      <td>Yes</td>\n",
              "      <td>Not in universe</td>\n",
              "      <td>4</td>\n",
              "      <td>Not in universe</td>\n",
              "      <td>United-States</td>\n",
              "      <td>United-States</td>\n",
              "      <td>United-States</td>\n",
              "      <td>Native- Born in the United States</td>\n",
              "      <td>0</td>\n",
              "      <td>Not in universe</td>\n",
              "      <td>2</td>\n",
              "      <td>52</td>\n",
              "      <td>94</td>\n",
              "      <td>1</td>\n",
              "    </tr>\n",
              "    <tr>\n",
              "      <th>3</th>\n",
              "      <td>33</td>\n",
              "      <td>Not in universe</td>\n",
              "      <td>0</td>\n",
              "      <td>0</td>\n",
              "      <td>High school graduate</td>\n",
              "      <td>0</td>\n",
              "      <td>Not in universe</td>\n",
              "      <td>Married-civilian spouse present</td>\n",
              "      <td>Not in universe or children</td>\n",
              "      <td>Not in universe</td>\n",
              "      <td>White</td>\n",
              "      <td>All other</td>\n",
              "      <td>Female</td>\n",
              "      <td>Not in universe</td>\n",
              "      <td>Not in universe</td>\n",
              "      <td>Not in labor force</td>\n",
              "      <td>0</td>\n",
              "      <td>0</td>\n",
              "      <td>0</td>\n",
              "      <td>Joint both under 65</td>\n",
              "      <td>Not in universe</td>\n",
              "      <td>Not in universe</td>\n",
              "      <td>Child 18+ ever marr RP of subfamily</td>\n",
              "      <td>Child 18 or older</td>\n",
              "      <td>NaN</td>\n",
              "      <td>NaN</td>\n",
              "      <td>NaN</td>\n",
              "      <td>Not in universe under 1 year old</td>\n",
              "      <td>NaN</td>\n",
              "      <td>0</td>\n",
              "      <td>Not in universe</td>\n",
              "      <td>United-States</td>\n",
              "      <td>United-States</td>\n",
              "      <td>United-States</td>\n",
              "      <td>Native- Born in the United States</td>\n",
              "      <td>0</td>\n",
              "      <td>Not in universe</td>\n",
              "      <td>2</td>\n",
              "      <td>0</td>\n",
              "      <td>95</td>\n",
              "      <td>0</td>\n",
              "    </tr>\n",
              "    <tr>\n",
              "      <th>4</th>\n",
              "      <td>13</td>\n",
              "      <td>Not in universe</td>\n",
              "      <td>0</td>\n",
              "      <td>0</td>\n",
              "      <td>Children</td>\n",
              "      <td>0</td>\n",
              "      <td>Not in universe</td>\n",
              "      <td>Never married</td>\n",
              "      <td>Not in universe or children</td>\n",
              "      <td>Not in universe</td>\n",
              "      <td>White</td>\n",
              "      <td>All other</td>\n",
              "      <td>Male</td>\n",
              "      <td>Not in universe</td>\n",
              "      <td>Not in universe</td>\n",
              "      <td>Children or Armed Forces</td>\n",
              "      <td>0</td>\n",
              "      <td>0</td>\n",
              "      <td>0</td>\n",
              "      <td>Nonfiler</td>\n",
              "      <td>Not in universe</td>\n",
              "      <td>Not in universe</td>\n",
              "      <td>Child &lt;18 never marr not in subfamily</td>\n",
              "      <td>Child under 18 never married</td>\n",
              "      <td>NaN</td>\n",
              "      <td>NaN</td>\n",
              "      <td>NaN</td>\n",
              "      <td>Not in universe under 1 year old</td>\n",
              "      <td>NaN</td>\n",
              "      <td>0</td>\n",
              "      <td>Both parents present</td>\n",
              "      <td>United-States</td>\n",
              "      <td>United-States</td>\n",
              "      <td>United-States</td>\n",
              "      <td>Native- Born in the United States</td>\n",
              "      <td>0</td>\n",
              "      <td>Not in universe</td>\n",
              "      <td>0</td>\n",
              "      <td>0</td>\n",
              "      <td>95</td>\n",
              "      <td>0</td>\n",
              "    </tr>\n",
              "  </tbody>\n",
              "</table>\n",
              "</div>"
            ],
            "text/plain": [
              "   age  class_of_worker  ...  year  income_level\n",
              "0   23          Private  ...    95             0\n",
              "1   24          Private  ...    94             0\n",
              "2   38          Private  ...    94             1\n",
              "3   33  Not in universe  ...    95             0\n",
              "4   13  Not in universe  ...    95             0\n",
              "\n",
              "[5 rows x 41 columns]"
            ]
          },
          "metadata": {
            "tags": []
          },
          "execution_count": 6
        }
      ]
    },
    {
      "cell_type": "code",
      "metadata": {
        "id": "QC5_pa6AjMmf",
        "colab_type": "code",
        "colab": {
          "base_uri": "https://localhost:8080/",
          "height": 849
        },
        "outputId": "c113200a-97f4-4c3b-83ef-ac39e6111b16"
      },
      "source": [
        "census_data.info()"
      ],
      "execution_count": 11,
      "outputs": [
        {
          "output_type": "stream",
          "text": [
            "<class 'pandas.core.frame.DataFrame'>\n",
            "RangeIndex: 200000 entries, 0 to 199999\n",
            "Data columns (total 41 columns):\n",
            " #   Column                            Non-Null Count   Dtype \n",
            "---  ------                            --------------   ----- \n",
            " 0   age                               200000 non-null  int64 \n",
            " 1   class_of_worker                   200000 non-null  object\n",
            " 2   industry_code                     200000 non-null  int64 \n",
            " 3   occupation_code                   200000 non-null  int64 \n",
            " 4   education                         200000 non-null  object\n",
            " 5   wage_per_hour                     200000 non-null  int64 \n",
            " 6   enrolled_in_edu_inst_lastwk       200000 non-null  object\n",
            " 7   marital_status                    200000 non-null  object\n",
            " 8   major_industry_code               200000 non-null  object\n",
            " 9   major_occupation_code             200000 non-null  object\n",
            " 10  race                              200000 non-null  object\n",
            " 11  hispanic_origin                   199408 non-null  object\n",
            " 12  sex                               200000 non-null  object\n",
            " 13  member_of_labor_union             200000 non-null  object\n",
            " 14  reason_for_unemployment           200000 non-null  object\n",
            " 15  full_parttime_employment_stat     200000 non-null  object\n",
            " 16  capital_gains                     200000 non-null  int64 \n",
            " 17  capital_losses                    200000 non-null  int64 \n",
            " 18  dividend_from_Stocks              200000 non-null  int64 \n",
            " 19  tax_filer_status                  200000 non-null  object\n",
            " 20  region_of_previous_residence      200000 non-null  object\n",
            " 21  state_of_previous_residence       199523 non-null  object\n",
            " 22  d_household_family_stat           200000 non-null  object\n",
            " 23  d_household_summary               200000 non-null  object\n",
            " 24  migration_msa                     133327 non-null  object\n",
            " 25  migration_reg                     133327 non-null  object\n",
            " 26  migration_within_reg              133327 non-null  object\n",
            " 27  live_1_year_ago                   200000 non-null  object\n",
            " 28  migration_sunbelt                 133327 non-null  object\n",
            " 29  num_person_Worked_employer        200000 non-null  int64 \n",
            " 30  family_members_under_18           200000 non-null  object\n",
            " 31  country_father                    195478 non-null  object\n",
            " 32  country_mother                    195864 non-null  object\n",
            " 33  country_self                      197688 non-null  object\n",
            " 34  citizenship                       200000 non-null  object\n",
            " 35  business_or_self_employed         200000 non-null  int64 \n",
            " 36  fill_questionnaire_veteran_admin  200000 non-null  object\n",
            " 37  veterans_benefits                 200000 non-null  int64 \n",
            " 38  weeks_worked_in_year              200000 non-null  int64 \n",
            " 39  year                              200000 non-null  int64 \n",
            " 40  income_level                      200000 non-null  int64 \n",
            "dtypes: int64(13), object(28)\n",
            "memory usage: 62.6+ MB\n"
          ],
          "name": "stdout"
        }
      ]
    },
    {
      "cell_type": "code",
      "metadata": {
        "id": "ZuqWqoZwlElj",
        "colab_type": "code",
        "colab": {
          "base_uri": "https://localhost:8080/",
          "height": 314
        },
        "outputId": "7ab8507f-26f4-40c9-d770-2f2a79046642"
      },
      "source": [
        "census_data.describe()"
      ],
      "execution_count": 12,
      "outputs": [
        {
          "output_type": "execute_result",
          "data": {
            "text/html": [
              "<div>\n",
              "<style scoped>\n",
              "    .dataframe tbody tr th:only-of-type {\n",
              "        vertical-align: middle;\n",
              "    }\n",
              "\n",
              "    .dataframe tbody tr th {\n",
              "        vertical-align: top;\n",
              "    }\n",
              "\n",
              "    .dataframe thead th {\n",
              "        text-align: right;\n",
              "    }\n",
              "</style>\n",
              "<table border=\"1\" class=\"dataframe\">\n",
              "  <thead>\n",
              "    <tr style=\"text-align: right;\">\n",
              "      <th></th>\n",
              "      <th>age</th>\n",
              "      <th>industry_code</th>\n",
              "      <th>occupation_code</th>\n",
              "      <th>wage_per_hour</th>\n",
              "      <th>capital_gains</th>\n",
              "      <th>capital_losses</th>\n",
              "      <th>dividend_from_Stocks</th>\n",
              "      <th>num_person_Worked_employer</th>\n",
              "      <th>business_or_self_employed</th>\n",
              "      <th>veterans_benefits</th>\n",
              "      <th>weeks_worked_in_year</th>\n",
              "      <th>year</th>\n",
              "      <th>income_level</th>\n",
              "    </tr>\n",
              "  </thead>\n",
              "  <tbody>\n",
              "    <tr>\n",
              "      <th>count</th>\n",
              "      <td>200000.000000</td>\n",
              "      <td>200000.000000</td>\n",
              "      <td>200000.000000</td>\n",
              "      <td>200000.000000</td>\n",
              "      <td>200000.000000</td>\n",
              "      <td>200000.000000</td>\n",
              "      <td>200000.000000</td>\n",
              "      <td>200000.000000</td>\n",
              "      <td>200000.000000</td>\n",
              "      <td>200000.000000</td>\n",
              "      <td>200000.000000</td>\n",
              "      <td>200000.000000</td>\n",
              "      <td>200000.000000</td>\n",
              "    </tr>\n",
              "    <tr>\n",
              "      <th>mean</th>\n",
              "      <td>34.662495</td>\n",
              "      <td>15.564830</td>\n",
              "      <td>11.326325</td>\n",
              "      <td>54.835700</td>\n",
              "      <td>493.561580</td>\n",
              "      <td>38.921275</td>\n",
              "      <td>212.977630</td>\n",
              "      <td>1.983780</td>\n",
              "      <td>0.177995</td>\n",
              "      <td>1.522860</td>\n",
              "      <td>23.541820</td>\n",
              "      <td>94.499800</td>\n",
              "      <td>0.074360</td>\n",
              "    </tr>\n",
              "    <tr>\n",
              "      <th>std</th>\n",
              "      <td>22.225765</td>\n",
              "      <td>18.104961</td>\n",
              "      <td>14.424809</td>\n",
              "      <td>272.034681</td>\n",
              "      <td>5109.900136</td>\n",
              "      <td>277.867944</td>\n",
              "      <td>2062.591247</td>\n",
              "      <td>2.372892</td>\n",
              "      <td>0.557014</td>\n",
              "      <td>0.846346</td>\n",
              "      <td>24.447497</td>\n",
              "      <td>0.500001</td>\n",
              "      <td>0.262357</td>\n",
              "    </tr>\n",
              "    <tr>\n",
              "      <th>min</th>\n",
              "      <td>0.000000</td>\n",
              "      <td>0.000000</td>\n",
              "      <td>0.000000</td>\n",
              "      <td>0.000000</td>\n",
              "      <td>0.000000</td>\n",
              "      <td>0.000000</td>\n",
              "      <td>0.000000</td>\n",
              "      <td>0.000000</td>\n",
              "      <td>0.000000</td>\n",
              "      <td>0.000000</td>\n",
              "      <td>0.000000</td>\n",
              "      <td>94.000000</td>\n",
              "      <td>0.000000</td>\n",
              "    </tr>\n",
              "    <tr>\n",
              "      <th>25%</th>\n",
              "      <td>16.000000</td>\n",
              "      <td>0.000000</td>\n",
              "      <td>0.000000</td>\n",
              "      <td>0.000000</td>\n",
              "      <td>0.000000</td>\n",
              "      <td>0.000000</td>\n",
              "      <td>0.000000</td>\n",
              "      <td>0.000000</td>\n",
              "      <td>0.000000</td>\n",
              "      <td>2.000000</td>\n",
              "      <td>0.000000</td>\n",
              "      <td>94.000000</td>\n",
              "      <td>0.000000</td>\n",
              "    </tr>\n",
              "    <tr>\n",
              "      <th>50%</th>\n",
              "      <td>33.000000</td>\n",
              "      <td>1.000000</td>\n",
              "      <td>1.000000</td>\n",
              "      <td>0.000000</td>\n",
              "      <td>0.000000</td>\n",
              "      <td>0.000000</td>\n",
              "      <td>0.000000</td>\n",
              "      <td>1.000000</td>\n",
              "      <td>0.000000</td>\n",
              "      <td>2.000000</td>\n",
              "      <td>10.000000</td>\n",
              "      <td>94.000000</td>\n",
              "      <td>0.000000</td>\n",
              "    </tr>\n",
              "    <tr>\n",
              "      <th>75%</th>\n",
              "      <td>50.000000</td>\n",
              "      <td>33.000000</td>\n",
              "      <td>26.000000</td>\n",
              "      <td>0.000000</td>\n",
              "      <td>0.000000</td>\n",
              "      <td>0.000000</td>\n",
              "      <td>0.000000</td>\n",
              "      <td>4.000000</td>\n",
              "      <td>0.000000</td>\n",
              "      <td>2.000000</td>\n",
              "      <td>52.000000</td>\n",
              "      <td>95.000000</td>\n",
              "      <td>0.000000</td>\n",
              "    </tr>\n",
              "    <tr>\n",
              "      <th>max</th>\n",
              "      <td>90.000000</td>\n",
              "      <td>51.000000</td>\n",
              "      <td>46.000000</td>\n",
              "      <td>9999.000000</td>\n",
              "      <td>99999.000000</td>\n",
              "      <td>4608.000000</td>\n",
              "      <td>99999.000000</td>\n",
              "      <td>6.000000</td>\n",
              "      <td>2.000000</td>\n",
              "      <td>2.000000</td>\n",
              "      <td>52.000000</td>\n",
              "      <td>95.000000</td>\n",
              "      <td>1.000000</td>\n",
              "    </tr>\n",
              "  </tbody>\n",
              "</table>\n",
              "</div>"
            ],
            "text/plain": [
              "                 age  industry_code  ...           year   income_level\n",
              "count  200000.000000  200000.000000  ...  200000.000000  200000.000000\n",
              "mean       34.662495      15.564830  ...      94.499800       0.074360\n",
              "std        22.225765      18.104961  ...       0.500001       0.262357\n",
              "min         0.000000       0.000000  ...      94.000000       0.000000\n",
              "25%        16.000000       0.000000  ...      94.000000       0.000000\n",
              "50%        33.000000       1.000000  ...      94.000000       0.000000\n",
              "75%        50.000000      33.000000  ...      95.000000       0.000000\n",
              "max        90.000000      51.000000  ...      95.000000       1.000000\n",
              "\n",
              "[8 rows x 13 columns]"
            ]
          },
          "metadata": {
            "tags": []
          },
          "execution_count": 12
        }
      ]
    },
    {
      "cell_type": "code",
      "metadata": {
        "id": "1UNWY7IdlwRd",
        "colab_type": "code",
        "colab": {
          "base_uri": "https://localhost:8080/",
          "height": 745
        },
        "outputId": "727d971e-84da-45f3-84cb-94ca5a286c75"
      },
      "source": [
        "census_data.isnull().sum()"
      ],
      "execution_count": 14,
      "outputs": [
        {
          "output_type": "execute_result",
          "data": {
            "text/plain": [
              "age                                     0\n",
              "class_of_worker                         0\n",
              "industry_code                           0\n",
              "occupation_code                         0\n",
              "education                               0\n",
              "wage_per_hour                           0\n",
              "enrolled_in_edu_inst_lastwk             0\n",
              "marital_status                          0\n",
              "major_industry_code                     0\n",
              "major_occupation_code                   0\n",
              "race                                    0\n",
              "hispanic_origin                       592\n",
              "sex                                     0\n",
              "member_of_labor_union                   0\n",
              "reason_for_unemployment                 0\n",
              "full_parttime_employment_stat           0\n",
              "capital_gains                           0\n",
              "capital_losses                          0\n",
              "dividend_from_Stocks                    0\n",
              "tax_filer_status                        0\n",
              "region_of_previous_residence            0\n",
              "state_of_previous_residence           477\n",
              "d_household_family_stat                 0\n",
              "d_household_summary                     0\n",
              "migration_msa                       66673\n",
              "migration_reg                       66673\n",
              "migration_within_reg                66673\n",
              "live_1_year_ago                         0\n",
              "migration_sunbelt                   66673\n",
              "num_person_Worked_employer              0\n",
              "family_members_under_18                 0\n",
              "country_father                       4522\n",
              "country_mother                       4136\n",
              "country_self                         2312\n",
              "citizenship                             0\n",
              "business_or_self_employed               0\n",
              "fill_questionnaire_veteran_admin        0\n",
              "veterans_benefits                       0\n",
              "weeks_worked_in_year                    0\n",
              "year                                    0\n",
              "income_level                            0\n",
              "dtype: int64"
            ]
          },
          "metadata": {
            "tags": []
          },
          "execution_count": 14
        }
      ]
    },
    {
      "cell_type": "code",
      "metadata": {
        "id": "p4fjeyFKtiia",
        "colab_type": "code",
        "colab": {
          "base_uri": "https://localhost:8080/",
          "height": 769
        },
        "outputId": "67081121-e2f4-4b7c-c9f0-1bcc40bbbf7a"
      },
      "source": [
        "figure=plt.figure(figsize=(10,10))\n",
        "sns.heatmap(census_data.isnull())"
      ],
      "execution_count": 62,
      "outputs": [
        {
          "output_type": "execute_result",
          "data": {
            "text/plain": [
              "<matplotlib.axes._subplots.AxesSubplot at 0x7faa7dfe9cc0>"
            ]
          },
          "metadata": {
            "tags": []
          },
          "execution_count": 62
        },
        {
          "output_type": "display_data",
          "data": {
            "image/png": "[encoded data removed]",
            "text/plain": [
              "<Figure size 720x720 with 2 Axes>"
            ]
          },
          "metadata": {
            "tags": [],
            "needs_background": "light"
          }
        }
      ]
    },
    {
      "cell_type": "code",
      "metadata": {
        "id": "68Wi3Y6vvlrB",
        "colab_type": "code",
        "colab": {
          "base_uri": "https://localhost:8080/",
          "height": 759
        },
        "outputId": "95fa5044-7279-4cec-e24d-79e0167097a4"
      },
      "source": [
        "figure=plt.figure(figsize=(10,10))\n",
        "sns.heatmap(census_data.corr(),annot=True)"
      ],
      "execution_count": 66,
      "outputs": [
        {
          "output_type": "execute_result",
          "data": {
            "text/plain": [
              "<matplotlib.axes._subplots.AxesSubplot at 0x7faa7d335208>"
            ]
          },
          "metadata": {
            "tags": []
          },
          "execution_count": 66
        },
        {
          "output_type": "display_data",
          "data": {
            "image/png": "[encoded data removed]",
            "text/plain": [
              "<Figure size 720x720 with 2 Axes>"
            ]
          },
          "metadata": {
            "tags": [],
            "needs_background": "light"
          }
        }
      ]
    },
    {
      "cell_type": "code",
      "metadata": {
        "id": "r1wXCGFTl4U6",
        "colab_type": "code",
        "colab": {}
      },
      "source": [
        "cols_drop = ['hispanic_origin','state_of_previous_residence','migration_msa','migration_reg','migration_within_reg','migration_sunbelt','country_father','country_mother','country_self','income_level']"
      ],
      "execution_count": 16,
      "outputs": []
    },
    {
      "cell_type": "code",
      "metadata": {
        "id": "CjihR1Jgm7eM",
        "colab_type": "code",
        "colab": {}
      },
      "source": [
        "X=census_data.drop(cols_drop,axis=1)"
      ],
      "execution_count": 33,
      "outputs": []
    },
    {
      "cell_type": "code",
      "metadata": {
        "id": "0K2lGhV3nHAV",
        "colab_type": "code",
        "colab": {}
      },
      "source": [
        "X=X.drop(['race','sex','reason_for_unemployment','region_of_previous_residence','live_1_year_ago','citizenship'],axis=1)"
      ],
      "execution_count": 36,
      "outputs": []
    },
    {
      "cell_type": "code",
      "metadata": {
        "id": "ElHmC_LSn424",
        "colab_type": "code",
        "colab": {
          "base_uri": "https://localhost:8080/",
          "height": 468
        },
        "outputId": "d480494b-1926-49bd-e21d-18eb9605367c"
      },
      "source": [
        "X.isnull().sum()"
      ],
      "execution_count": 37,
      "outputs": [
        {
          "output_type": "execute_result",
          "data": {
            "text/plain": [
              "age                                 0\n",
              "class_of_worker                     0\n",
              "industry_code                       0\n",
              "occupation_code                     0\n",
              "education                           0\n",
              "wage_per_hour                       0\n",
              "enrolled_in_edu_inst_lastwk         0\n",
              "marital_status                      0\n",
              "major_industry_code                 0\n",
              "major_occupation_code               0\n",
              "member_of_labor_union               0\n",
              "full_parttime_employment_stat       0\n",
              "capital_gains                       0\n",
              "capital_losses                      0\n",
              "dividend_from_Stocks                0\n",
              "tax_filer_status                    0\n",
              "d_household_family_stat             0\n",
              "d_household_summary                 0\n",
              "num_person_Worked_employer          0\n",
              "family_members_under_18             0\n",
              "business_or_self_employed           0\n",
              "fill_questionnaire_veteran_admin    0\n",
              "veterans_benefits                   0\n",
              "weeks_worked_in_year                0\n",
              "year                                0\n",
              "dtype: int64"
            ]
          },
          "metadata": {
            "tags": []
          },
          "execution_count": 37
        }
      ]
    },
    {
      "cell_type": "code",
      "metadata": {
        "id": "OERz9b6-obYS",
        "colab_type": "code",
        "colab": {}
      },
      "source": [
        "y=census_data['income_level']"
      ],
      "execution_count": 38,
      "outputs": []
    },
    {
      "cell_type": "code",
      "metadata": {
        "id": "ZKuL6vlfoilD",
        "colab_type": "code",
        "colab": {
          "base_uri": "https://localhost:8080/",
          "height": 361
        },
        "outputId": "69ef96b4-3e4d-40bd-baab-d0fc940f02dc"
      },
      "source": [
        "X.tail()"
      ],
      "execution_count": 39,
      "outputs": [
        {
          "output_type": "execute_result",
          "data": {
            "text/html": [
              "<div>\n",
              "<style scoped>\n",
              "    .dataframe tbody tr th:only-of-type {\n",
              "        vertical-align: middle;\n",
              "    }\n",
              "\n",
              "    .dataframe tbody tr th {\n",
              "        vertical-align: top;\n",
              "    }\n",
              "\n",
              "    .dataframe thead th {\n",
              "        text-align: right;\n",
              "    }\n",
              "</style>\n",
              "<table border=\"1\" class=\"dataframe\">\n",
              "  <thead>\n",
              "    <tr style=\"text-align: right;\">\n",
              "      <th></th>\n",
              "      <th>age</th>\n",
              "      <th>class_of_worker</th>\n",
              "      <th>industry_code</th>\n",
              "      <th>occupation_code</th>\n",
              "      <th>education</th>\n",
              "      <th>wage_per_hour</th>\n",
              "      <th>enrolled_in_edu_inst_lastwk</th>\n",
              "      <th>marital_status</th>\n",
              "      <th>major_industry_code</th>\n",
              "      <th>major_occupation_code</th>\n",
              "      <th>member_of_labor_union</th>\n",
              "      <th>full_parttime_employment_stat</th>\n",
              "      <th>capital_gains</th>\n",
              "      <th>capital_losses</th>\n",
              "      <th>dividend_from_Stocks</th>\n",
              "      <th>tax_filer_status</th>\n",
              "      <th>d_household_family_stat</th>\n",
              "      <th>d_household_summary</th>\n",
              "      <th>num_person_Worked_employer</th>\n",
              "      <th>family_members_under_18</th>\n",
              "      <th>business_or_self_employed</th>\n",
              "      <th>fill_questionnaire_veteran_admin</th>\n",
              "      <th>veterans_benefits</th>\n",
              "      <th>weeks_worked_in_year</th>\n",
              "      <th>year</th>\n",
              "    </tr>\n",
              "  </thead>\n",
              "  <tbody>\n",
              "    <tr>\n",
              "      <th>199995</th>\n",
              "      <td>2</td>\n",
              "      <td>Not in universe</td>\n",
              "      <td>0</td>\n",
              "      <td>0</td>\n",
              "      <td>Children</td>\n",
              "      <td>0</td>\n",
              "      <td>Not in universe</td>\n",
              "      <td>Never married</td>\n",
              "      <td>Not in universe or children</td>\n",
              "      <td>Not in universe</td>\n",
              "      <td>Not in universe</td>\n",
              "      <td>Children or Armed Forces</td>\n",
              "      <td>0</td>\n",
              "      <td>0</td>\n",
              "      <td>0</td>\n",
              "      <td>Nonfiler</td>\n",
              "      <td>Child &lt;18 never marr not in subfamily</td>\n",
              "      <td>Child under 18 never married</td>\n",
              "      <td>0</td>\n",
              "      <td>Both parents present</td>\n",
              "      <td>0</td>\n",
              "      <td>Not in universe</td>\n",
              "      <td>0</td>\n",
              "      <td>0</td>\n",
              "      <td>95</td>\n",
              "    </tr>\n",
              "    <tr>\n",
              "      <th>199996</th>\n",
              "      <td>32</td>\n",
              "      <td>Private</td>\n",
              "      <td>39</td>\n",
              "      <td>19</td>\n",
              "      <td>Associates degree-occup /vocational</td>\n",
              "      <td>0</td>\n",
              "      <td>Not in universe</td>\n",
              "      <td>Married-civilian spouse present</td>\n",
              "      <td>Personal services except private HH</td>\n",
              "      <td>Sales</td>\n",
              "      <td>No</td>\n",
              "      <td>Children or Armed Forces</td>\n",
              "      <td>5178</td>\n",
              "      <td>0</td>\n",
              "      <td>0</td>\n",
              "      <td>Joint both under 65</td>\n",
              "      <td>Householder</td>\n",
              "      <td>Householder</td>\n",
              "      <td>4</td>\n",
              "      <td>Not in universe</td>\n",
              "      <td>0</td>\n",
              "      <td>Not in universe</td>\n",
              "      <td>2</td>\n",
              "      <td>52</td>\n",
              "      <td>94</td>\n",
              "    </tr>\n",
              "    <tr>\n",
              "      <th>199997</th>\n",
              "      <td>18</td>\n",
              "      <td>Not in universe</td>\n",
              "      <td>0</td>\n",
              "      <td>0</td>\n",
              "      <td>11th grade</td>\n",
              "      <td>0</td>\n",
              "      <td>High school</td>\n",
              "      <td>Never married</td>\n",
              "      <td>Not in universe or children</td>\n",
              "      <td>Not in universe</td>\n",
              "      <td>Not in universe</td>\n",
              "      <td>Children or Armed Forces</td>\n",
              "      <td>0</td>\n",
              "      <td>0</td>\n",
              "      <td>0</td>\n",
              "      <td>Nonfiler</td>\n",
              "      <td>Child 18+ never marr Not in a subfamily</td>\n",
              "      <td>Child 18 or older</td>\n",
              "      <td>0</td>\n",
              "      <td>Not in universe</td>\n",
              "      <td>0</td>\n",
              "      <td>Not in universe</td>\n",
              "      <td>2</td>\n",
              "      <td>0</td>\n",
              "      <td>94</td>\n",
              "    </tr>\n",
              "    <tr>\n",
              "      <th>199998</th>\n",
              "      <td>45</td>\n",
              "      <td>State government</td>\n",
              "      <td>43</td>\n",
              "      <td>33</td>\n",
              "      <td>Bachelors degree(BA AB BS)</td>\n",
              "      <td>0</td>\n",
              "      <td>Not in universe</td>\n",
              "      <td>Married-civilian spouse present</td>\n",
              "      <td>Education</td>\n",
              "      <td>Precision production craft &amp; repair</td>\n",
              "      <td>Not in universe</td>\n",
              "      <td>Full-time schedules</td>\n",
              "      <td>0</td>\n",
              "      <td>0</td>\n",
              "      <td>200</td>\n",
              "      <td>Joint both under 65</td>\n",
              "      <td>Householder</td>\n",
              "      <td>Householder</td>\n",
              "      <td>6</td>\n",
              "      <td>Not in universe</td>\n",
              "      <td>0</td>\n",
              "      <td>Not in universe</td>\n",
              "      <td>2</td>\n",
              "      <td>52</td>\n",
              "      <td>95</td>\n",
              "    </tr>\n",
              "    <tr>\n",
              "      <th>199999</th>\n",
              "      <td>9</td>\n",
              "      <td>Not in universe</td>\n",
              "      <td>0</td>\n",
              "      <td>0</td>\n",
              "      <td>Children</td>\n",
              "      <td>0</td>\n",
              "      <td>Not in universe</td>\n",
              "      <td>Never married</td>\n",
              "      <td>Not in universe or children</td>\n",
              "      <td>Not in universe</td>\n",
              "      <td>Not in universe</td>\n",
              "      <td>Children or Armed Forces</td>\n",
              "      <td>0</td>\n",
              "      <td>0</td>\n",
              "      <td>0</td>\n",
              "      <td>Nonfiler</td>\n",
              "      <td>Child &lt;18 never marr not in subfamily</td>\n",
              "      <td>Child under 18 never married</td>\n",
              "      <td>0</td>\n",
              "      <td>Both parents present</td>\n",
              "      <td>0</td>\n",
              "      <td>Not in universe</td>\n",
              "      <td>0</td>\n",
              "      <td>0</td>\n",
              "      <td>95</td>\n",
              "    </tr>\n",
              "  </tbody>\n",
              "</table>\n",
              "</div>"
            ],
            "text/plain": [
              "        age   class_of_worker  ...  weeks_worked_in_year  year\n",
              "199995    2   Not in universe  ...                     0    95\n",
              "199996   32           Private  ...                    52    94\n",
              "199997   18   Not in universe  ...                     0    94\n",
              "199998   45  State government  ...                    52    95\n",
              "199999    9   Not in universe  ...                     0    95\n",
              "\n",
              "[5 rows x 25 columns]"
            ]
          },
          "metadata": {
            "tags": []
          },
          "execution_count": 39
        }
      ]
    },
    {
      "cell_type": "code",
      "metadata": {
        "id": "V4ZbCiJhook0",
        "colab_type": "code",
        "colab": {}
      },
      "source": [
        "from sklearn.preprocessing import LabelEncoder"
      ],
      "execution_count": 26,
      "outputs": []
    },
    {
      "cell_type": "code",
      "metadata": {
        "id": "RlX4emMGpLMf",
        "colab_type": "code",
        "colab": {}
      },
      "source": [
        "le=LabelEncoder()"
      ],
      "execution_count": 27,
      "outputs": []
    },
    {
      "cell_type": "code",
      "metadata": {
        "id": "ubpyBqqapQxh",
        "colab_type": "code",
        "colab": {}
      },
      "source": [
        "X['class_of_worker']=le.fit_transform(X['class_of_worker'])"
      ],
      "execution_count": 40,
      "outputs": []
    },
    {
      "cell_type": "code",
      "metadata": {
        "id": "gLpo9Bp_pd9X",
        "colab_type": "code",
        "colab": {
          "base_uri": "https://localhost:8080/",
          "height": 361
        },
        "outputId": "26572b76-3c46-4513-d5a0-2d4123289e7d"
      },
      "source": [
        "X.tail()"
      ],
      "execution_count": 41,
      "outputs": [
        {
          "output_type": "execute_result",
          "data": {
            "text/html": [
              "<div>\n",
              "<style scoped>\n",
              "    .dataframe tbody tr th:only-of-type {\n",
              "        vertical-align: middle;\n",
              "    }\n",
              "\n",
              "    .dataframe tbody tr th {\n",
              "        vertical-align: top;\n",
              "    }\n",
              "\n",
              "    .dataframe thead th {\n",
              "        text-align: right;\n",
              "    }\n",
              "</style>\n",
              "<table border=\"1\" class=\"dataframe\">\n",
              "  <thead>\n",
              "    <tr style=\"text-align: right;\">\n",
              "      <th></th>\n",
              "      <th>age</th>\n",
              "      <th>class_of_worker</th>\n",
              "      <th>industry_code</th>\n",
              "      <th>occupation_code</th>\n",
              "      <th>education</th>\n",
              "      <th>wage_per_hour</th>\n",
              "      <th>enrolled_in_edu_inst_lastwk</th>\n",
              "      <th>marital_status</th>\n",
              "      <th>major_industry_code</th>\n",
              "      <th>major_occupation_code</th>\n",
              "      <th>member_of_labor_union</th>\n",
              "      <th>full_parttime_employment_stat</th>\n",
              "      <th>capital_gains</th>\n",
              "      <th>capital_losses</th>\n",
              "      <th>dividend_from_Stocks</th>\n",
              "      <th>tax_filer_status</th>\n",
              "      <th>d_household_family_stat</th>\n",
              "      <th>d_household_summary</th>\n",
              "      <th>num_person_Worked_employer</th>\n",
              "      <th>family_members_under_18</th>\n",
              "      <th>business_or_self_employed</th>\n",
              "      <th>fill_questionnaire_veteran_admin</th>\n",
              "      <th>veterans_benefits</th>\n",
              "      <th>weeks_worked_in_year</th>\n",
              "      <th>year</th>\n",
              "    </tr>\n",
              "  </thead>\n",
              "  <tbody>\n",
              "    <tr>\n",
              "      <th>199995</th>\n",
              "      <td>2</td>\n",
              "      <td>12</td>\n",
              "      <td>0</td>\n",
              "      <td>0</td>\n",
              "      <td>Children</td>\n",
              "      <td>0</td>\n",
              "      <td>Not in universe</td>\n",
              "      <td>Never married</td>\n",
              "      <td>Not in universe or children</td>\n",
              "      <td>Not in universe</td>\n",
              "      <td>Not in universe</td>\n",
              "      <td>Children or Armed Forces</td>\n",
              "      <td>0</td>\n",
              "      <td>0</td>\n",
              "      <td>0</td>\n",
              "      <td>Nonfiler</td>\n",
              "      <td>Child &lt;18 never marr not in subfamily</td>\n",
              "      <td>Child under 18 never married</td>\n",
              "      <td>0</td>\n",
              "      <td>Both parents present</td>\n",
              "      <td>0</td>\n",
              "      <td>Not in universe</td>\n",
              "      <td>0</td>\n",
              "      <td>0</td>\n",
              "      <td>95</td>\n",
              "    </tr>\n",
              "    <tr>\n",
              "      <th>199996</th>\n",
              "      <td>32</td>\n",
              "      <td>13</td>\n",
              "      <td>39</td>\n",
              "      <td>19</td>\n",
              "      <td>Associates degree-occup /vocational</td>\n",
              "      <td>0</td>\n",
              "      <td>Not in universe</td>\n",
              "      <td>Married-civilian spouse present</td>\n",
              "      <td>Personal services except private HH</td>\n",
              "      <td>Sales</td>\n",
              "      <td>No</td>\n",
              "      <td>Children or Armed Forces</td>\n",
              "      <td>5178</td>\n",
              "      <td>0</td>\n",
              "      <td>0</td>\n",
              "      <td>Joint both under 65</td>\n",
              "      <td>Householder</td>\n",
              "      <td>Householder</td>\n",
              "      <td>4</td>\n",
              "      <td>Not in universe</td>\n",
              "      <td>0</td>\n",
              "      <td>Not in universe</td>\n",
              "      <td>2</td>\n",
              "      <td>52</td>\n",
              "      <td>94</td>\n",
              "    </tr>\n",
              "    <tr>\n",
              "      <th>199997</th>\n",
              "      <td>18</td>\n",
              "      <td>12</td>\n",
              "      <td>0</td>\n",
              "      <td>0</td>\n",
              "      <td>11th grade</td>\n",
              "      <td>0</td>\n",
              "      <td>High school</td>\n",
              "      <td>Never married</td>\n",
              "      <td>Not in universe or children</td>\n",
              "      <td>Not in universe</td>\n",
              "      <td>Not in universe</td>\n",
              "      <td>Children or Armed Forces</td>\n",
              "      <td>0</td>\n",
              "      <td>0</td>\n",
              "      <td>0</td>\n",
              "      <td>Nonfiler</td>\n",
              "      <td>Child 18+ never marr Not in a subfamily</td>\n",
              "      <td>Child 18 or older</td>\n",
              "      <td>0</td>\n",
              "      <td>Not in universe</td>\n",
              "      <td>0</td>\n",
              "      <td>Not in universe</td>\n",
              "      <td>2</td>\n",
              "      <td>0</td>\n",
              "      <td>94</td>\n",
              "    </tr>\n",
              "    <tr>\n",
              "      <th>199998</th>\n",
              "      <td>45</td>\n",
              "      <td>16</td>\n",
              "      <td>43</td>\n",
              "      <td>33</td>\n",
              "      <td>Bachelors degree(BA AB BS)</td>\n",
              "      <td>0</td>\n",
              "      <td>Not in universe</td>\n",
              "      <td>Married-civilian spouse present</td>\n",
              "      <td>Education</td>\n",
              "      <td>Precision production craft &amp; repair</td>\n",
              "      <td>Not in universe</td>\n",
              "      <td>Full-time schedules</td>\n",
              "      <td>0</td>\n",
              "      <td>0</td>\n",
              "      <td>200</td>\n",
              "      <td>Joint both under 65</td>\n",
              "      <td>Householder</td>\n",
              "      <td>Householder</td>\n",
              "      <td>6</td>\n",
              "      <td>Not in universe</td>\n",
              "      <td>0</td>\n",
              "      <td>Not in universe</td>\n",
              "      <td>2</td>\n",
              "      <td>52</td>\n",
              "      <td>95</td>\n",
              "    </tr>\n",
              "    <tr>\n",
              "      <th>199999</th>\n",
              "      <td>9</td>\n",
              "      <td>12</td>\n",
              "      <td>0</td>\n",
              "      <td>0</td>\n",
              "      <td>Children</td>\n",
              "      <td>0</td>\n",
              "      <td>Not in universe</td>\n",
              "      <td>Never married</td>\n",
              "      <td>Not in universe or children</td>\n",
              "      <td>Not in universe</td>\n",
              "      <td>Not in universe</td>\n",
              "      <td>Children or Armed Forces</td>\n",
              "      <td>0</td>\n",
              "      <td>0</td>\n",
              "      <td>0</td>\n",
              "      <td>Nonfiler</td>\n",
              "      <td>Child &lt;18 never marr not in subfamily</td>\n",
              "      <td>Child under 18 never married</td>\n",
              "      <td>0</td>\n",
              "      <td>Both parents present</td>\n",
              "      <td>0</td>\n",
              "      <td>Not in universe</td>\n",
              "      <td>0</td>\n",
              "      <td>0</td>\n",
              "      <td>95</td>\n",
              "    </tr>\n",
              "  </tbody>\n",
              "</table>\n",
              "</div>"
            ],
            "text/plain": [
              "        age  class_of_worker  ...  weeks_worked_in_year  year\n",
              "199995    2               12  ...                     0    95\n",
              "199996   32               13  ...                    52    94\n",
              "199997   18               12  ...                     0    94\n",
              "199998   45               16  ...                    52    95\n",
              "199999    9               12  ...                     0    95\n",
              "\n",
              "[5 rows x 25 columns]"
            ]
          },
          "metadata": {
            "tags": []
          },
          "execution_count": 41
        }
      ]
    },
    {
      "cell_type": "code",
      "metadata": {
        "id": "iW62z8eRpoHz",
        "colab_type": "code",
        "colab": {}
      },
      "source": [
        "X['education']=le.fit_transform(X['education'])\n",
        "X['enrolled_in_edu_inst_lastwk']=le.fit_transform(X['enrolled_in_edu_inst_lastwk'])\n",
        "X['marital_status']=le.fit_transform(X['marital_status'])\n",
        "X['major_industry_code']=le.fit_transform(X['major_industry_code'])"
      ],
      "execution_count": 42,
      "outputs": []
    },
    {
      "cell_type": "code",
      "metadata": {
        "id": "Jvbm9VlpqKl4",
        "colab_type": "code",
        "colab": {
          "base_uri": "https://localhost:8080/",
          "height": 291
        },
        "outputId": "3aa43a6c-d14f-4248-99db-9780097a25b5"
      },
      "source": [
        "X.tail()"
      ],
      "execution_count": 43,
      "outputs": [
        {
          "output_type": "execute_result",
          "data": {
            "text/html": [
              "<div>\n",
              "<style scoped>\n",
              "    .dataframe tbody tr th:only-of-type {\n",
              "        vertical-align: middle;\n",
              "    }\n",
              "\n",
              "    .dataframe tbody tr th {\n",
              "        vertical-align: top;\n",
              "    }\n",
              "\n",
              "    .dataframe thead th {\n",
              "        text-align: right;\n",
              "    }\n",
              "</style>\n",
              "<table border=\"1\" class=\"dataframe\">\n",
              "  <thead>\n",
              "    <tr style=\"text-align: right;\">\n",
              "      <th></th>\n",
              "      <th>age</th>\n",
              "      <th>class_of_worker</th>\n",
              "      <th>industry_code</th>\n",
              "      <th>occupation_code</th>\n",
              "      <th>education</th>\n",
              "      <th>wage_per_hour</th>\n",
              "      <th>enrolled_in_edu_inst_lastwk</th>\n",
              "      <th>marital_status</th>\n",
              "      <th>major_industry_code</th>\n",
              "      <th>major_occupation_code</th>\n",
              "      <th>member_of_labor_union</th>\n",
              "      <th>full_parttime_employment_stat</th>\n",
              "      <th>capital_gains</th>\n",
              "      <th>capital_losses</th>\n",
              "      <th>dividend_from_Stocks</th>\n",
              "      <th>tax_filer_status</th>\n",
              "      <th>d_household_family_stat</th>\n",
              "      <th>d_household_summary</th>\n",
              "      <th>num_person_Worked_employer</th>\n",
              "      <th>family_members_under_18</th>\n",
              "      <th>business_or_self_employed</th>\n",
              "      <th>fill_questionnaire_veteran_admin</th>\n",
              "      <th>veterans_benefits</th>\n",
              "      <th>weeks_worked_in_year</th>\n",
              "      <th>year</th>\n",
              "    </tr>\n",
              "  </thead>\n",
              "  <tbody>\n",
              "    <tr>\n",
              "      <th>199995</th>\n",
              "      <td>2</td>\n",
              "      <td>12</td>\n",
              "      <td>0</td>\n",
              "      <td>0</td>\n",
              "      <td>27</td>\n",
              "      <td>0</td>\n",
              "      <td>5</td>\n",
              "      <td>11</td>\n",
              "      <td>38</td>\n",
              "      <td>Not in universe</td>\n",
              "      <td>Not in universe</td>\n",
              "      <td>Children or Armed Forces</td>\n",
              "      <td>0</td>\n",
              "      <td>0</td>\n",
              "      <td>0</td>\n",
              "      <td>Nonfiler</td>\n",
              "      <td>Child &lt;18 never marr not in subfamily</td>\n",
              "      <td>Child under 18 never married</td>\n",
              "      <td>0</td>\n",
              "      <td>Both parents present</td>\n",
              "      <td>0</td>\n",
              "      <td>Not in universe</td>\n",
              "      <td>0</td>\n",
              "      <td>0</td>\n",
              "      <td>95</td>\n",
              "    </tr>\n",
              "    <tr>\n",
              "      <th>199996</th>\n",
              "      <td>32</td>\n",
              "      <td>13</td>\n",
              "      <td>39</td>\n",
              "      <td>19</td>\n",
              "      <td>25</td>\n",
              "      <td>0</td>\n",
              "      <td>5</td>\n",
              "      <td>9</td>\n",
              "      <td>40</td>\n",
              "      <td>Sales</td>\n",
              "      <td>No</td>\n",
              "      <td>Children or Armed Forces</td>\n",
              "      <td>5178</td>\n",
              "      <td>0</td>\n",
              "      <td>0</td>\n",
              "      <td>Joint both under 65</td>\n",
              "      <td>Householder</td>\n",
              "      <td>Householder</td>\n",
              "      <td>4</td>\n",
              "      <td>Not in universe</td>\n",
              "      <td>0</td>\n",
              "      <td>Not in universe</td>\n",
              "      <td>2</td>\n",
              "      <td>52</td>\n",
              "      <td>94</td>\n",
              "    </tr>\n",
              "    <tr>\n",
              "      <th>199997</th>\n",
              "      <td>18</td>\n",
              "      <td>12</td>\n",
              "      <td>0</td>\n",
              "      <td>0</td>\n",
              "      <td>18</td>\n",
              "      <td>0</td>\n",
              "      <td>4</td>\n",
              "      <td>11</td>\n",
              "      <td>38</td>\n",
              "      <td>Not in universe</td>\n",
              "      <td>Not in universe</td>\n",
              "      <td>Children or Armed Forces</td>\n",
              "      <td>0</td>\n",
              "      <td>0</td>\n",
              "      <td>0</td>\n",
              "      <td>Nonfiler</td>\n",
              "      <td>Child 18+ never marr Not in a subfamily</td>\n",
              "      <td>Child 18 or older</td>\n",
              "      <td>0</td>\n",
              "      <td>Not in universe</td>\n",
              "      <td>0</td>\n",
              "      <td>Not in universe</td>\n",
              "      <td>2</td>\n",
              "      <td>0</td>\n",
              "      <td>94</td>\n",
              "    </tr>\n",
              "    <tr>\n",
              "      <th>199998</th>\n",
              "      <td>45</td>\n",
              "      <td>16</td>\n",
              "      <td>43</td>\n",
              "      <td>33</td>\n",
              "      <td>26</td>\n",
              "      <td>0</td>\n",
              "      <td>5</td>\n",
              "      <td>9</td>\n",
              "      <td>29</td>\n",
              "      <td>Precision production craft &amp; repair</td>\n",
              "      <td>Not in universe</td>\n",
              "      <td>Full-time schedules</td>\n",
              "      <td>0</td>\n",
              "      <td>0</td>\n",
              "      <td>200</td>\n",
              "      <td>Joint both under 65</td>\n",
              "      <td>Householder</td>\n",
              "      <td>Householder</td>\n",
              "      <td>6</td>\n",
              "      <td>Not in universe</td>\n",
              "      <td>0</td>\n",
              "      <td>Not in universe</td>\n",
              "      <td>2</td>\n",
              "      <td>52</td>\n",
              "      <td>95</td>\n",
              "    </tr>\n",
              "    <tr>\n",
              "      <th>199999</th>\n",
              "      <td>9</td>\n",
              "      <td>12</td>\n",
              "      <td>0</td>\n",
              "      <td>0</td>\n",
              "      <td>27</td>\n",
              "      <td>0</td>\n",
              "      <td>5</td>\n",
              "      <td>11</td>\n",
              "      <td>38</td>\n",
              "      <td>Not in universe</td>\n",
              "      <td>Not in universe</td>\n",
              "      <td>Children or Armed Forces</td>\n",
              "      <td>0</td>\n",
              "      <td>0</td>\n",
              "      <td>0</td>\n",
              "      <td>Nonfiler</td>\n",
              "      <td>Child &lt;18 never marr not in subfamily</td>\n",
              "      <td>Child under 18 never married</td>\n",
              "      <td>0</td>\n",
              "      <td>Both parents present</td>\n",
              "      <td>0</td>\n",
              "      <td>Not in universe</td>\n",
              "      <td>0</td>\n",
              "      <td>0</td>\n",
              "      <td>95</td>\n",
              "    </tr>\n",
              "  </tbody>\n",
              "</table>\n",
              "</div>"
            ],
            "text/plain": [
              "        age  class_of_worker  ...  weeks_worked_in_year  year\n",
              "199995    2               12  ...                     0    95\n",
              "199996   32               13  ...                    52    94\n",
              "199997   18               12  ...                     0    94\n",
              "199998   45               16  ...                    52    95\n",
              "199999    9               12  ...                     0    95\n",
              "\n",
              "[5 rows x 25 columns]"
            ]
          },
          "metadata": {
            "tags": []
          },
          "execution_count": 43
        }
      ]
    },
    {
      "cell_type": "code",
      "metadata": {
        "id": "6-9wROPqqMXA",
        "colab_type": "code",
        "colab": {}
      },
      "source": [
        "X['major_occupation_code']=le.fit_transform(X['major_occupation_code'])\n",
        "X['member_of_labor_union']=le.fit_transform(X['member_of_labor_union'])\n",
        "X['full_parttime_employment_stat']=le.fit_transform(X['full_parttime_employment_stat'])\n",
        "X['tax_filer_status']=le.fit_transform(X['tax_filer_status'])\n",
        "\n",
        "X['d_household_family_stat']=le.fit_transform(X['d_household_family_stat'])\n",
        "X['d_household_summary']=le.fit_transform(X['d_household_summary'])\n",
        "X['family_members_under_18']=le.fit_transform(X['family_members_under_18'])\n",
        "X['fill_questionnaire_veteran_admin']=le.fit_transform(X['fill_questionnaire_veteran_admin'])"
      ],
      "execution_count": 44,
      "outputs": []
    },
    {
      "cell_type": "code",
      "metadata": {
        "id": "DTXq4CixrWk4",
        "colab_type": "code",
        "colab": {
          "base_uri": "https://localhost:8080/",
          "height": 222
        },
        "outputId": "c97d8aeb-2333-4056-f0a9-7b2aded57384"
      },
      "source": [
        "X.tail()"
      ],
      "execution_count": 45,
      "outputs": [
        {
          "output_type": "execute_result",
          "data": {
            "text/html": [
              "<div>\n",
              "<style scoped>\n",
              "    .dataframe tbody tr th:only-of-type {\n",
              "        vertical-align: middle;\n",
              "    }\n",
              "\n",
              "    .dataframe tbody tr th {\n",
              "        vertical-align: top;\n",
              "    }\n",
              "\n",
              "    .dataframe thead th {\n",
              "        text-align: right;\n",
              "    }\n",
              "</style>\n",
              "<table border=\"1\" class=\"dataframe\">\n",
              "  <thead>\n",
              "    <tr style=\"text-align: right;\">\n",
              "      <th></th>\n",
              "      <th>age</th>\n",
              "      <th>class_of_worker</th>\n",
              "      <th>industry_code</th>\n",
              "      <th>occupation_code</th>\n",
              "      <th>education</th>\n",
              "      <th>wage_per_hour</th>\n",
              "      <th>enrolled_in_edu_inst_lastwk</th>\n",
              "      <th>marital_status</th>\n",
              "      <th>major_industry_code</th>\n",
              "      <th>major_occupation_code</th>\n",
              "      <th>member_of_labor_union</th>\n",
              "      <th>full_parttime_employment_stat</th>\n",
              "      <th>capital_gains</th>\n",
              "      <th>capital_losses</th>\n",
              "      <th>dividend_from_Stocks</th>\n",
              "      <th>tax_filer_status</th>\n",
              "      <th>d_household_family_stat</th>\n",
              "      <th>d_household_summary</th>\n",
              "      <th>num_person_Worked_employer</th>\n",
              "      <th>family_members_under_18</th>\n",
              "      <th>business_or_self_employed</th>\n",
              "      <th>fill_questionnaire_veteran_admin</th>\n",
              "      <th>veterans_benefits</th>\n",
              "      <th>weeks_worked_in_year</th>\n",
              "      <th>year</th>\n",
              "    </tr>\n",
              "  </thead>\n",
              "  <tbody>\n",
              "    <tr>\n",
              "      <th>199995</th>\n",
              "      <td>2</td>\n",
              "      <td>12</td>\n",
              "      <td>0</td>\n",
              "      <td>0</td>\n",
              "      <td>27</td>\n",
              "      <td>0</td>\n",
              "      <td>5</td>\n",
              "      <td>11</td>\n",
              "      <td>38</td>\n",
              "      <td>21</td>\n",
              "      <td>4</td>\n",
              "      <td>8</td>\n",
              "      <td>0</td>\n",
              "      <td>0</td>\n",
              "      <td>0</td>\n",
              "      <td>10</td>\n",
              "      <td>45</td>\n",
              "      <td>10</td>\n",
              "      <td>0</td>\n",
              "      <td>5</td>\n",
              "      <td>0</td>\n",
              "      <td>4</td>\n",
              "      <td>0</td>\n",
              "      <td>0</td>\n",
              "      <td>95</td>\n",
              "    </tr>\n",
              "    <tr>\n",
              "      <th>199996</th>\n",
              "      <td>32</td>\n",
              "      <td>13</td>\n",
              "      <td>39</td>\n",
              "      <td>19</td>\n",
              "      <td>25</td>\n",
              "      <td>0</td>\n",
              "      <td>5</td>\n",
              "      <td>9</td>\n",
              "      <td>40</td>\n",
              "      <td>27</td>\n",
              "      <td>3</td>\n",
              "      <td>8</td>\n",
              "      <td>5178</td>\n",
              "      <td>0</td>\n",
              "      <td>0</td>\n",
              "      <td>8</td>\n",
              "      <td>56</td>\n",
              "      <td>12</td>\n",
              "      <td>4</td>\n",
              "      <td>9</td>\n",
              "      <td>0</td>\n",
              "      <td>4</td>\n",
              "      <td>2</td>\n",
              "      <td>52</td>\n",
              "      <td>94</td>\n",
              "    </tr>\n",
              "    <tr>\n",
              "      <th>199997</th>\n",
              "      <td>18</td>\n",
              "      <td>12</td>\n",
              "      <td>0</td>\n",
              "      <td>0</td>\n",
              "      <td>18</td>\n",
              "      <td>0</td>\n",
              "      <td>4</td>\n",
              "      <td>11</td>\n",
              "      <td>38</td>\n",
              "      <td>21</td>\n",
              "      <td>4</td>\n",
              "      <td>8</td>\n",
              "      <td>0</td>\n",
              "      <td>0</td>\n",
              "      <td>0</td>\n",
              "      <td>10</td>\n",
              "      <td>39</td>\n",
              "      <td>8</td>\n",
              "      <td>0</td>\n",
              "      <td>9</td>\n",
              "      <td>0</td>\n",
              "      <td>4</td>\n",
              "      <td>2</td>\n",
              "      <td>0</td>\n",
              "      <td>94</td>\n",
              "    </tr>\n",
              "    <tr>\n",
              "      <th>199998</th>\n",
              "      <td>45</td>\n",
              "      <td>16</td>\n",
              "      <td>43</td>\n",
              "      <td>33</td>\n",
              "      <td>26</td>\n",
              "      <td>0</td>\n",
              "      <td>5</td>\n",
              "      <td>9</td>\n",
              "      <td>29</td>\n",
              "      <td>23</td>\n",
              "      <td>4</td>\n",
              "      <td>9</td>\n",
              "      <td>0</td>\n",
              "      <td>0</td>\n",
              "      <td>200</td>\n",
              "      <td>8</td>\n",
              "      <td>56</td>\n",
              "      <td>12</td>\n",
              "      <td>6</td>\n",
              "      <td>9</td>\n",
              "      <td>0</td>\n",
              "      <td>4</td>\n",
              "      <td>2</td>\n",
              "      <td>52</td>\n",
              "      <td>95</td>\n",
              "    </tr>\n",
              "    <tr>\n",
              "      <th>199999</th>\n",
              "      <td>9</td>\n",
              "      <td>12</td>\n",
              "      <td>0</td>\n",
              "      <td>0</td>\n",
              "      <td>27</td>\n",
              "      <td>0</td>\n",
              "      <td>5</td>\n",
              "      <td>11</td>\n",
              "      <td>38</td>\n",
              "      <td>21</td>\n",
              "      <td>4</td>\n",
              "      <td>8</td>\n",
              "      <td>0</td>\n",
              "      <td>0</td>\n",
              "      <td>0</td>\n",
              "      <td>10</td>\n",
              "      <td>45</td>\n",
              "      <td>10</td>\n",
              "      <td>0</td>\n",
              "      <td>5</td>\n",
              "      <td>0</td>\n",
              "      <td>4</td>\n",
              "      <td>0</td>\n",
              "      <td>0</td>\n",
              "      <td>95</td>\n",
              "    </tr>\n",
              "  </tbody>\n",
              "</table>\n",
              "</div>"
            ],
            "text/plain": [
              "        age  class_of_worker  ...  weeks_worked_in_year  year\n",
              "199995    2               12  ...                     0    95\n",
              "199996   32               13  ...                    52    94\n",
              "199997   18               12  ...                     0    94\n",
              "199998   45               16  ...                    52    95\n",
              "199999    9               12  ...                     0    95\n",
              "\n",
              "[5 rows x 25 columns]"
            ]
          },
          "metadata": {
            "tags": []
          },
          "execution_count": 45
        }
      ]
    },
    {
      "cell_type": "code",
      "metadata": {
        "id": "WOoERE4drYac",
        "colab_type": "code",
        "colab": {
          "base_uri": "https://localhost:8080/",
          "height": 35
        },
        "outputId": "581be0e8-efea-46ed-dec5-42fb18418b55"
      },
      "source": [
        "y.isnull().sum()"
      ],
      "execution_count": 46,
      "outputs": [
        {
          "output_type": "execute_result",
          "data": {
            "text/plain": [
              "0"
            ]
          },
          "metadata": {
            "tags": []
          },
          "execution_count": 46
        }
      ]
    },
    {
      "cell_type": "code",
      "metadata": {
        "id": "DvUfMkmdrcVR",
        "colab_type": "code",
        "colab": {
          "base_uri": "https://localhost:8080/",
          "height": 468
        },
        "outputId": "d65f1085-882b-44f8-8268-0079418d10ce"
      },
      "source": [
        "X.isnull().sum()"
      ],
      "execution_count": 48,
      "outputs": [
        {
          "output_type": "execute_result",
          "data": {
            "text/plain": [
              "age                                 0\n",
              "class_of_worker                     0\n",
              "industry_code                       0\n",
              "occupation_code                     0\n",
              "education                           0\n",
              "wage_per_hour                       0\n",
              "enrolled_in_edu_inst_lastwk         0\n",
              "marital_status                      0\n",
              "major_industry_code                 0\n",
              "major_occupation_code               0\n",
              "member_of_labor_union               0\n",
              "full_parttime_employment_stat       0\n",
              "capital_gains                       0\n",
              "capital_losses                      0\n",
              "dividend_from_Stocks                0\n",
              "tax_filer_status                    0\n",
              "d_household_family_stat             0\n",
              "d_household_summary                 0\n",
              "num_person_Worked_employer          0\n",
              "family_members_under_18             0\n",
              "business_or_self_employed           0\n",
              "fill_questionnaire_veteran_admin    0\n",
              "veterans_benefits                   0\n",
              "weeks_worked_in_year                0\n",
              "year                                0\n",
              "dtype: int64"
            ]
          },
          "metadata": {
            "tags": []
          },
          "execution_count": 48
        }
      ]
    },
    {
      "cell_type": "code",
      "metadata": {
        "id": "UdH0-DHNrfPG",
        "colab_type": "code",
        "colab": {
          "base_uri": "https://localhost:8080/",
          "height": 297
        },
        "outputId": "a71fff02-915b-428c-accb-2017eea0a561"
      },
      "source": [
        "sns.countplot(y)"
      ],
      "execution_count": 49,
      "outputs": [
        {
          "output_type": "execute_result",
          "data": {
            "text/plain": [
              "<matplotlib.axes._subplots.AxesSubplot at 0x7faa9069ac50>"
            ]
          },
          "metadata": {
            "tags": []
          },
          "execution_count": 49
        },
        {
          "output_type": "display_data",
          "data": {
            "image/png": "[encoded data removed]",
            "text/plain": [
              "<Figure size 432x288 with 1 Axes>"
            ]
          },
          "metadata": {
            "tags": [],
            "needs_background": "light"
          }
        }
      ]
    },
    {
      "cell_type": "code",
      "metadata": {
        "id": "yC8HvgkArpDT",
        "colab_type": "code",
        "colab": {
          "base_uri": "https://localhost:8080/",
          "height": 35
        },
        "outputId": "26957a5d-a618-4cdc-9e42-0262318e305c"
      },
      "source": [
        "y[y==1].count()"
      ],
      "execution_count": 53,
      "outputs": [
        {
          "output_type": "execute_result",
          "data": {
            "text/plain": [
              "14872"
            ]
          },
          "metadata": {
            "tags": []
          },
          "execution_count": 53
        }
      ]
    },
    {
      "cell_type": "code",
      "metadata": {
        "id": "KGK11MfcrtSj",
        "colab_type": "code",
        "colab": {
          "base_uri": "https://localhost:8080/",
          "height": 35
        },
        "outputId": "a0aeb53b-ceb7-4296-8f5b-156edca29ab9"
      },
      "source": [
        "y[y==0].count()"
      ],
      "execution_count": 54,
      "outputs": [
        {
          "output_type": "execute_result",
          "data": {
            "text/plain": [
              "185128"
            ]
          },
          "metadata": {
            "tags": []
          },
          "execution_count": 54
        }
      ]
    },
    {
      "cell_type": "code",
      "metadata": {
        "id": "Ed5NDjlpsBf_",
        "colab_type": "code",
        "colab": {
          "base_uri": "https://localhost:8080/",
          "height": 835
        },
        "outputId": "d0ea23f5-9d61-4540-b67e-800d6f564bf6"
      },
      "source": [
        "X.corr()"
      ],
      "execution_count": 55,
      "outputs": [
        {
          "output_type": "execute_result",
          "data": {
            "text/html": [
              "<div>\n",
              "<style scoped>\n",
              "    .dataframe tbody tr th:only-of-type {\n",
              "        vertical-align: middle;\n",
              "    }\n",
              "\n",
              "    .dataframe tbody tr th {\n",
              "        vertical-align: top;\n",
              "    }\n",
              "\n",
              "    .dataframe thead th {\n",
              "        text-align: right;\n",
              "    }\n",
              "</style>\n",
              "<table border=\"1\" class=\"dataframe\">\n",
              "  <thead>\n",
              "    <tr style=\"text-align: right;\">\n",
              "      <th></th>\n",
              "      <th>age</th>\n",
              "      <th>class_of_worker</th>\n",
              "      <th>industry_code</th>\n",
              "      <th>occupation_code</th>\n",
              "      <th>education</th>\n",
              "      <th>wage_per_hour</th>\n",
              "      <th>enrolled_in_edu_inst_lastwk</th>\n",
              "      <th>marital_status</th>\n",
              "      <th>major_industry_code</th>\n",
              "      <th>major_occupation_code</th>\n",
              "      <th>member_of_labor_union</th>\n",
              "      <th>full_parttime_employment_stat</th>\n",
              "      <th>capital_gains</th>\n",
              "      <th>capital_losses</th>\n",
              "      <th>dividend_from_Stocks</th>\n",
              "      <th>tax_filer_status</th>\n",
              "      <th>d_household_family_stat</th>\n",
              "      <th>d_household_summary</th>\n",
              "      <th>num_person_Worked_employer</th>\n",
              "      <th>family_members_under_18</th>\n",
              "      <th>business_or_self_employed</th>\n",
              "      <th>fill_questionnaire_veteran_admin</th>\n",
              "      <th>veterans_benefits</th>\n",
              "      <th>weeks_worked_in_year</th>\n",
              "      <th>year</th>\n",
              "    </tr>\n",
              "  </thead>\n",
              "  <tbody>\n",
              "    <tr>\n",
              "      <th>age</th>\n",
              "      <td>1.000000</td>\n",
              "      <td>0.018708</td>\n",
              "      <td>0.158182</td>\n",
              "      <td>0.114145</td>\n",
              "      <td>0.005507</td>\n",
              "      <td>0.035395</td>\n",
              "      <td>0.039206</td>\n",
              "      <td>-0.119514</td>\n",
              "      <td>-0.027801</td>\n",
              "      <td>0.001073</td>\n",
              "      <td>-0.008503</td>\n",
              "      <td>0.063098</td>\n",
              "      <td>0.055206</td>\n",
              "      <td>0.064830</td>\n",
              "      <td>0.107224</td>\n",
              "      <td>-0.140949</td>\n",
              "      <td>0.271784</td>\n",
              "      <td>0.226103</td>\n",
              "      <td>0.140495</td>\n",
              "      <td>0.384767</td>\n",
              "      <td>-0.001813</td>\n",
              "      <td>-0.008607</td>\n",
              "      <td>0.673449</td>\n",
              "      <td>0.206619</td>\n",
              "      <td>0.004231</td>\n",
              "    </tr>\n",
              "    <tr>\n",
              "      <th>class_of_worker</th>\n",
              "      <td>0.018708</td>\n",
              "      <td>1.000000</td>\n",
              "      <td>0.077567</td>\n",
              "      <td>0.093726</td>\n",
              "      <td>0.868679</td>\n",
              "      <td>0.013039</td>\n",
              "      <td>0.933702</td>\n",
              "      <td>0.872495</td>\n",
              "      <td>0.876204</td>\n",
              "      <td>0.890514</td>\n",
              "      <td>0.940900</td>\n",
              "      <td>0.925886</td>\n",
              "      <td>0.014346</td>\n",
              "      <td>0.013764</td>\n",
              "      <td>0.004323</td>\n",
              "      <td>0.855786</td>\n",
              "      <td>0.833698</td>\n",
              "      <td>0.859549</td>\n",
              "      <td>0.043480</td>\n",
              "      <td>0.833669</td>\n",
              "      <td>0.026315</td>\n",
              "      <td>0.964850</td>\n",
              "      <td>0.058805</td>\n",
              "      <td>0.098173</td>\n",
              "      <td>-0.000721</td>\n",
              "    </tr>\n",
              "    <tr>\n",
              "      <th>industry_code</th>\n",
              "      <td>0.158182</td>\n",
              "      <td>0.077567</td>\n",
              "      <td>1.000000</td>\n",
              "      <td>0.554163</td>\n",
              "      <td>0.083318</td>\n",
              "      <td>0.162421</td>\n",
              "      <td>-0.010345</td>\n",
              "      <td>-0.123838</td>\n",
              "      <td>-0.011628</td>\n",
              "      <td>0.048825</td>\n",
              "      <td>-0.041763</td>\n",
              "      <td>0.031191</td>\n",
              "      <td>0.069239</td>\n",
              "      <td>0.074650</td>\n",
              "      <td>0.018482</td>\n",
              "      <td>-0.098651</td>\n",
              "      <td>0.149916</td>\n",
              "      <td>0.108294</td>\n",
              "      <td>0.639184</td>\n",
              "      <td>0.255852</td>\n",
              "      <td>0.252211</td>\n",
              "      <td>-0.000246</td>\n",
              "      <td>0.475955</td>\n",
              "      <td>0.753862</td>\n",
              "      <td>0.004907</td>\n",
              "    </tr>\n",
              "    <tr>\n",
              "      <th>occupation_code</th>\n",
              "      <td>0.114145</td>\n",
              "      <td>0.093726</td>\n",
              "      <td>0.554163</td>\n",
              "      <td>1.000000</td>\n",
              "      <td>0.032064</td>\n",
              "      <td>0.192234</td>\n",
              "      <td>-0.011464</td>\n",
              "      <td>-0.102056</td>\n",
              "      <td>-0.072349</td>\n",
              "      <td>0.031466</td>\n",
              "      <td>-0.029581</td>\n",
              "      <td>0.037609</td>\n",
              "      <td>0.002999</td>\n",
              "      <td>0.042191</td>\n",
              "      <td>-0.026208</td>\n",
              "      <td>-0.072478</td>\n",
              "      <td>0.094821</td>\n",
              "      <td>0.061035</td>\n",
              "      <td>0.507461</td>\n",
              "      <td>0.227869</td>\n",
              "      <td>0.225696</td>\n",
              "      <td>-0.000765</td>\n",
              "      <td>0.435101</td>\n",
              "      <td>0.647926</td>\n",
              "      <td>-0.001473</td>\n",
              "    </tr>\n",
              "    <tr>\n",
              "      <th>education</th>\n",
              "      <td>0.005507</td>\n",
              "      <td>0.868679</td>\n",
              "      <td>0.083318</td>\n",
              "      <td>0.032064</td>\n",
              "      <td>1.000000</td>\n",
              "      <td>0.022615</td>\n",
              "      <td>0.862054</td>\n",
              "      <td>0.793289</td>\n",
              "      <td>0.811616</td>\n",
              "      <td>0.810712</td>\n",
              "      <td>0.866085</td>\n",
              "      <td>0.843295</td>\n",
              "      <td>0.018559</td>\n",
              "      <td>0.017736</td>\n",
              "      <td>0.015662</td>\n",
              "      <td>0.777733</td>\n",
              "      <td>0.773451</td>\n",
              "      <td>0.795091</td>\n",
              "      <td>0.077978</td>\n",
              "      <td>0.773823</td>\n",
              "      <td>0.030614</td>\n",
              "      <td>0.886419</td>\n",
              "      <td>-0.000927</td>\n",
              "      <td>0.096382</td>\n",
              "      <td>-0.000482</td>\n",
              "    </tr>\n",
              "    <tr>\n",
              "      <th>wage_per_hour</th>\n",
              "      <td>0.035395</td>\n",
              "      <td>0.013039</td>\n",
              "      <td>0.162421</td>\n",
              "      <td>0.192234</td>\n",
              "      <td>0.022615</td>\n",
              "      <td>1.000000</td>\n",
              "      <td>0.003758</td>\n",
              "      <td>-0.027424</td>\n",
              "      <td>-0.008809</td>\n",
              "      <td>0.014307</td>\n",
              "      <td>-0.061124</td>\n",
              "      <td>0.006216</td>\n",
              "      <td>0.001274</td>\n",
              "      <td>0.012743</td>\n",
              "      <td>-0.007117</td>\n",
              "      <td>-0.022167</td>\n",
              "      <td>0.035800</td>\n",
              "      <td>0.027067</td>\n",
              "      <td>0.187814</td>\n",
              "      <td>0.065092</td>\n",
              "      <td>0.058137</td>\n",
              "      <td>0.003803</td>\n",
              "      <td>0.111601</td>\n",
              "      <td>0.192913</td>\n",
              "      <td>0.000336</td>\n",
              "    </tr>\n",
              "    <tr>\n",
              "      <th>enrolled_in_edu_inst_lastwk</th>\n",
              "      <td>0.039206</td>\n",
              "      <td>0.933702</td>\n",
              "      <td>-0.010345</td>\n",
              "      <td>-0.011464</td>\n",
              "      <td>0.862054</td>\n",
              "      <td>0.003758</td>\n",
              "      <td>1.000000</td>\n",
              "      <td>0.873391</td>\n",
              "      <td>0.885788</td>\n",
              "      <td>0.883017</td>\n",
              "      <td>0.946892</td>\n",
              "      <td>0.916423</td>\n",
              "      <td>0.005915</td>\n",
              "      <td>0.005143</td>\n",
              "      <td>0.004737</td>\n",
              "      <td>0.844539</td>\n",
              "      <td>0.848419</td>\n",
              "      <td>0.880919</td>\n",
              "      <td>-0.015135</td>\n",
              "      <td>0.800094</td>\n",
              "      <td>-0.025582</td>\n",
              "      <td>0.964217</td>\n",
              "      <td>-0.039067</td>\n",
              "      <td>0.006669</td>\n",
              "      <td>-0.001638</td>\n",
              "    </tr>\n",
              "    <tr>\n",
              "      <th>marital_status</th>\n",
              "      <td>-0.119514</td>\n",
              "      <td>0.872495</td>\n",
              "      <td>-0.123838</td>\n",
              "      <td>-0.102056</td>\n",
              "      <td>0.793289</td>\n",
              "      <td>-0.027424</td>\n",
              "      <td>0.873391</td>\n",
              "      <td>1.000000</td>\n",
              "      <td>0.862140</td>\n",
              "      <td>0.835665</td>\n",
              "      <td>0.904610</td>\n",
              "      <td>0.864139</td>\n",
              "      <td>-0.019920</td>\n",
              "      <td>-0.016201</td>\n",
              "      <td>-0.012462</td>\n",
              "      <td>0.914284</td>\n",
              "      <td>0.684401</td>\n",
              "      <td>0.725253</td>\n",
              "      <td>-0.120860</td>\n",
              "      <td>0.668625</td>\n",
              "      <td>-0.040111</td>\n",
              "      <td>0.917967</td>\n",
              "      <td>-0.158130</td>\n",
              "      <td>-0.156668</td>\n",
              "      <td>-0.003452</td>\n",
              "    </tr>\n",
              "    <tr>\n",
              "      <th>major_industry_code</th>\n",
              "      <td>-0.027801</td>\n",
              "      <td>0.876204</td>\n",
              "      <td>-0.011628</td>\n",
              "      <td>-0.072349</td>\n",
              "      <td>0.811616</td>\n",
              "      <td>-0.008809</td>\n",
              "      <td>0.885788</td>\n",
              "      <td>0.862140</td>\n",
              "      <td>1.000000</td>\n",
              "      <td>0.859790</td>\n",
              "      <td>0.901643</td>\n",
              "      <td>0.871560</td>\n",
              "      <td>-0.008187</td>\n",
              "      <td>-0.007873</td>\n",
              "      <td>-0.002251</td>\n",
              "      <td>0.839913</td>\n",
              "      <td>0.759267</td>\n",
              "      <td>0.792311</td>\n",
              "      <td>-0.050121</td>\n",
              "      <td>0.733125</td>\n",
              "      <td>-0.031831</td>\n",
              "      <td>0.917836</td>\n",
              "      <td>-0.050313</td>\n",
              "      <td>-0.073763</td>\n",
              "      <td>-0.002803</td>\n",
              "    </tr>\n",
              "    <tr>\n",
              "      <th>major_occupation_code</th>\n",
              "      <td>0.001073</td>\n",
              "      <td>0.890514</td>\n",
              "      <td>0.048825</td>\n",
              "      <td>0.031466</td>\n",
              "      <td>0.810712</td>\n",
              "      <td>0.014307</td>\n",
              "      <td>0.883017</td>\n",
              "      <td>0.835665</td>\n",
              "      <td>0.859790</td>\n",
              "      <td>1.000000</td>\n",
              "      <td>0.893890</td>\n",
              "      <td>0.872958</td>\n",
              "      <td>0.008115</td>\n",
              "      <td>0.013105</td>\n",
              "      <td>0.000371</td>\n",
              "      <td>0.818640</td>\n",
              "      <td>0.771243</td>\n",
              "      <td>0.799416</td>\n",
              "      <td>0.027922</td>\n",
              "      <td>0.767555</td>\n",
              "      <td>0.016009</td>\n",
              "      <td>0.912145</td>\n",
              "      <td>0.018623</td>\n",
              "      <td>0.033957</td>\n",
              "      <td>-0.000622</td>\n",
              "    </tr>\n",
              "    <tr>\n",
              "      <th>member_of_labor_union</th>\n",
              "      <td>-0.008503</td>\n",
              "      <td>0.940900</td>\n",
              "      <td>-0.041763</td>\n",
              "      <td>-0.029581</td>\n",
              "      <td>0.866085</td>\n",
              "      <td>-0.061124</td>\n",
              "      <td>0.946892</td>\n",
              "      <td>0.904610</td>\n",
              "      <td>0.901643</td>\n",
              "      <td>0.893890</td>\n",
              "      <td>1.000000</td>\n",
              "      <td>0.931385</td>\n",
              "      <td>-0.001747</td>\n",
              "      <td>-0.000598</td>\n",
              "      <td>-0.000311</td>\n",
              "      <td>0.881438</td>\n",
              "      <td>0.819572</td>\n",
              "      <td>0.853071</td>\n",
              "      <td>-0.032890</td>\n",
              "      <td>0.795483</td>\n",
              "      <td>-0.020014</td>\n",
              "      <td>0.975285</td>\n",
              "      <td>-0.029691</td>\n",
              "      <td>-0.041070</td>\n",
              "      <td>-0.002232</td>\n",
              "    </tr>\n",
              "    <tr>\n",
              "      <th>full_parttime_employment_stat</th>\n",
              "      <td>0.063098</td>\n",
              "      <td>0.925886</td>\n",
              "      <td>0.031191</td>\n",
              "      <td>0.037609</td>\n",
              "      <td>0.843295</td>\n",
              "      <td>0.006216</td>\n",
              "      <td>0.916423</td>\n",
              "      <td>0.864139</td>\n",
              "      <td>0.871560</td>\n",
              "      <td>0.872958</td>\n",
              "      <td>0.931385</td>\n",
              "      <td>1.000000</td>\n",
              "      <td>0.003305</td>\n",
              "      <td>0.006335</td>\n",
              "      <td>0.005291</td>\n",
              "      <td>0.845173</td>\n",
              "      <td>0.829602</td>\n",
              "      <td>0.853489</td>\n",
              "      <td>0.031432</td>\n",
              "      <td>0.832058</td>\n",
              "      <td>0.012330</td>\n",
              "      <td>0.950075</td>\n",
              "      <td>0.091430</td>\n",
              "      <td>0.023981</td>\n",
              "      <td>0.173348</td>\n",
              "    </tr>\n",
              "    <tr>\n",
              "      <th>capital_gains</th>\n",
              "      <td>0.055206</td>\n",
              "      <td>0.014346</td>\n",
              "      <td>0.069239</td>\n",
              "      <td>0.002999</td>\n",
              "      <td>0.018559</td>\n",
              "      <td>0.001274</td>\n",
              "      <td>0.005915</td>\n",
              "      <td>-0.019920</td>\n",
              "      <td>-0.008187</td>\n",
              "      <td>0.008115</td>\n",
              "      <td>-0.001747</td>\n",
              "      <td>0.003305</td>\n",
              "      <td>1.000000</td>\n",
              "      <td>-0.013529</td>\n",
              "      <td>0.133129</td>\n",
              "      <td>-0.018897</td>\n",
              "      <td>0.000261</td>\n",
              "      <td>0.000543</td>\n",
              "      <td>0.058835</td>\n",
              "      <td>0.032067</td>\n",
              "      <td>0.014996</td>\n",
              "      <td>0.000634</td>\n",
              "      <td>0.053272</td>\n",
              "      <td>0.087241</td>\n",
              "      <td>0.003494</td>\n",
              "    </tr>\n",
              "    <tr>\n",
              "      <th>capital_losses</th>\n",
              "      <td>0.064830</td>\n",
              "      <td>0.013764</td>\n",
              "      <td>0.074650</td>\n",
              "      <td>0.042191</td>\n",
              "      <td>0.017736</td>\n",
              "      <td>0.012743</td>\n",
              "      <td>0.005143</td>\n",
              "      <td>-0.016201</td>\n",
              "      <td>-0.007873</td>\n",
              "      <td>0.013105</td>\n",
              "      <td>-0.000598</td>\n",
              "      <td>0.006335</td>\n",
              "      <td>-0.013529</td>\n",
              "      <td>1.000000</td>\n",
              "      <td>0.045257</td>\n",
              "      <td>-0.007122</td>\n",
              "      <td>-0.001974</td>\n",
              "      <td>-0.003419</td>\n",
              "      <td>0.084212</td>\n",
              "      <td>0.044970</td>\n",
              "      <td>0.023613</td>\n",
              "      <td>0.002084</td>\n",
              "      <td>0.076350</td>\n",
              "      <td>0.102828</td>\n",
              "      <td>-0.001823</td>\n",
              "    </tr>\n",
              "    <tr>\n",
              "      <th>dividend_from_Stocks</th>\n",
              "      <td>0.107224</td>\n",
              "      <td>0.004323</td>\n",
              "      <td>0.018482</td>\n",
              "      <td>-0.026208</td>\n",
              "      <td>0.015662</td>\n",
              "      <td>-0.007117</td>\n",
              "      <td>0.004737</td>\n",
              "      <td>-0.012462</td>\n",
              "      <td>-0.002251</td>\n",
              "      <td>0.000371</td>\n",
              "      <td>-0.000311</td>\n",
              "      <td>0.005291</td>\n",
              "      <td>0.133129</td>\n",
              "      <td>0.045257</td>\n",
              "      <td>1.000000</td>\n",
              "      <td>-0.017369</td>\n",
              "      <td>0.025747</td>\n",
              "      <td>0.021823</td>\n",
              "      <td>0.008340</td>\n",
              "      <td>0.033281</td>\n",
              "      <td>-0.004152</td>\n",
              "      <td>-0.000852</td>\n",
              "      <td>0.056071</td>\n",
              "      <td>0.018427</td>\n",
              "      <td>0.002385</td>\n",
              "    </tr>\n",
              "    <tr>\n",
              "      <th>tax_filer_status</th>\n",
              "      <td>-0.140949</td>\n",
              "      <td>0.855786</td>\n",
              "      <td>-0.098651</td>\n",
              "      <td>-0.072478</td>\n",
              "      <td>0.777733</td>\n",
              "      <td>-0.022167</td>\n",
              "      <td>0.844539</td>\n",
              "      <td>0.914284</td>\n",
              "      <td>0.839913</td>\n",
              "      <td>0.818640</td>\n",
              "      <td>0.881438</td>\n",
              "      <td>0.845173</td>\n",
              "      <td>-0.018897</td>\n",
              "      <td>-0.007122</td>\n",
              "      <td>-0.017369</td>\n",
              "      <td>1.000000</td>\n",
              "      <td>0.655586</td>\n",
              "      <td>0.687320</td>\n",
              "      <td>-0.096295</td>\n",
              "      <td>0.656717</td>\n",
              "      <td>-0.017832</td>\n",
              "      <td>0.895933</td>\n",
              "      <td>-0.142169</td>\n",
              "      <td>-0.128332</td>\n",
              "      <td>-0.002234</td>\n",
              "    </tr>\n",
              "    <tr>\n",
              "      <th>d_household_family_stat</th>\n",
              "      <td>0.271784</td>\n",
              "      <td>0.833698</td>\n",
              "      <td>0.149916</td>\n",
              "      <td>0.094821</td>\n",
              "      <td>0.773451</td>\n",
              "      <td>0.035800</td>\n",
              "      <td>0.848419</td>\n",
              "      <td>0.684401</td>\n",
              "      <td>0.759267</td>\n",
              "      <td>0.771243</td>\n",
              "      <td>0.819572</td>\n",
              "      <td>0.829602</td>\n",
              "      <td>0.000261</td>\n",
              "      <td>-0.001974</td>\n",
              "      <td>0.025747</td>\n",
              "      <td>0.655586</td>\n",
              "      <td>1.000000</td>\n",
              "      <td>0.988345</td>\n",
              "      <td>0.126791</td>\n",
              "      <td>0.871598</td>\n",
              "      <td>0.028047</td>\n",
              "      <td>0.842966</td>\n",
              "      <td>0.269082</td>\n",
              "      <td>0.166597</td>\n",
              "      <td>0.000235</td>\n",
              "    </tr>\n",
              "    <tr>\n",
              "      <th>d_household_summary</th>\n",
              "      <td>0.226103</td>\n",
              "      <td>0.859549</td>\n",
              "      <td>0.108294</td>\n",
              "      <td>0.061035</td>\n",
              "      <td>0.795091</td>\n",
              "      <td>0.027067</td>\n",
              "      <td>0.880919</td>\n",
              "      <td>0.725253</td>\n",
              "      <td>0.792311</td>\n",
              "      <td>0.799416</td>\n",
              "      <td>0.853071</td>\n",
              "      <td>0.853489</td>\n",
              "      <td>0.000543</td>\n",
              "      <td>-0.003419</td>\n",
              "      <td>0.021823</td>\n",
              "      <td>0.687320</td>\n",
              "      <td>0.988345</td>\n",
              "      <td>1.000000</td>\n",
              "      <td>0.089411</td>\n",
              "      <td>0.860839</td>\n",
              "      <td>0.011159</td>\n",
              "      <td>0.874730</td>\n",
              "      <td>0.201255</td>\n",
              "      <td>0.123318</td>\n",
              "      <td>0.000157</td>\n",
              "    </tr>\n",
              "    <tr>\n",
              "      <th>num_person_Worked_employer</th>\n",
              "      <td>0.140495</td>\n",
              "      <td>0.043480</td>\n",
              "      <td>0.639184</td>\n",
              "      <td>0.507461</td>\n",
              "      <td>0.077978</td>\n",
              "      <td>0.187814</td>\n",
              "      <td>-0.015135</td>\n",
              "      <td>-0.120860</td>\n",
              "      <td>-0.050121</td>\n",
              "      <td>0.027922</td>\n",
              "      <td>-0.032890</td>\n",
              "      <td>0.031432</td>\n",
              "      <td>0.058835</td>\n",
              "      <td>0.084212</td>\n",
              "      <td>0.008340</td>\n",
              "      <td>-0.096295</td>\n",
              "      <td>0.126791</td>\n",
              "      <td>0.089411</td>\n",
              "      <td>1.000000</td>\n",
              "      <td>0.249197</td>\n",
              "      <td>0.239113</td>\n",
              "      <td>-0.000277</td>\n",
              "      <td>0.462758</td>\n",
              "      <td>0.746241</td>\n",
              "      <td>0.021001</td>\n",
              "    </tr>\n",
              "    <tr>\n",
              "      <th>family_members_under_18</th>\n",
              "      <td>0.384767</td>\n",
              "      <td>0.833669</td>\n",
              "      <td>0.255852</td>\n",
              "      <td>0.227869</td>\n",
              "      <td>0.773823</td>\n",
              "      <td>0.065092</td>\n",
              "      <td>0.800094</td>\n",
              "      <td>0.668625</td>\n",
              "      <td>0.733125</td>\n",
              "      <td>0.767555</td>\n",
              "      <td>0.795483</td>\n",
              "      <td>0.832058</td>\n",
              "      <td>0.032067</td>\n",
              "      <td>0.044970</td>\n",
              "      <td>0.033281</td>\n",
              "      <td>0.656717</td>\n",
              "      <td>0.871598</td>\n",
              "      <td>0.860839</td>\n",
              "      <td>0.249197</td>\n",
              "      <td>1.000000</td>\n",
              "      <td>0.090303</td>\n",
              "      <td>0.823451</td>\n",
              "      <td>0.470754</td>\n",
              "      <td>0.299207</td>\n",
              "      <td>0.000223</td>\n",
              "    </tr>\n",
              "    <tr>\n",
              "      <th>business_or_self_employed</th>\n",
              "      <td>-0.001813</td>\n",
              "      <td>0.026315</td>\n",
              "      <td>0.252211</td>\n",
              "      <td>0.225696</td>\n",
              "      <td>0.030614</td>\n",
              "      <td>0.058137</td>\n",
              "      <td>-0.025582</td>\n",
              "      <td>-0.040111</td>\n",
              "      <td>-0.031831</td>\n",
              "      <td>0.016009</td>\n",
              "      <td>-0.020014</td>\n",
              "      <td>0.012330</td>\n",
              "      <td>0.014996</td>\n",
              "      <td>0.023613</td>\n",
              "      <td>-0.004152</td>\n",
              "      <td>-0.017832</td>\n",
              "      <td>0.028047</td>\n",
              "      <td>0.011159</td>\n",
              "      <td>0.239113</td>\n",
              "      <td>0.090303</td>\n",
              "      <td>1.000000</td>\n",
              "      <td>-0.004918</td>\n",
              "      <td>0.176802</td>\n",
              "      <td>0.264433</td>\n",
              "      <td>0.010837</td>\n",
              "    </tr>\n",
              "    <tr>\n",
              "      <th>fill_questionnaire_veteran_admin</th>\n",
              "      <td>-0.008607</td>\n",
              "      <td>0.964850</td>\n",
              "      <td>-0.000246</td>\n",
              "      <td>-0.000765</td>\n",
              "      <td>0.886419</td>\n",
              "      <td>0.003803</td>\n",
              "      <td>0.964217</td>\n",
              "      <td>0.917967</td>\n",
              "      <td>0.917836</td>\n",
              "      <td>0.912145</td>\n",
              "      <td>0.975285</td>\n",
              "      <td>0.950075</td>\n",
              "      <td>0.000634</td>\n",
              "      <td>0.002084</td>\n",
              "      <td>-0.000852</td>\n",
              "      <td>0.895933</td>\n",
              "      <td>0.842966</td>\n",
              "      <td>0.874730</td>\n",
              "      <td>-0.000277</td>\n",
              "      <td>0.823451</td>\n",
              "      <td>-0.004918</td>\n",
              "      <td>1.000000</td>\n",
              "      <td>-0.001604</td>\n",
              "      <td>-0.000063</td>\n",
              "      <td>-0.001723</td>\n",
              "    </tr>\n",
              "    <tr>\n",
              "      <th>veterans_benefits</th>\n",
              "      <td>0.673449</td>\n",
              "      <td>0.058805</td>\n",
              "      <td>0.475955</td>\n",
              "      <td>0.435101</td>\n",
              "      <td>-0.000927</td>\n",
              "      <td>0.111601</td>\n",
              "      <td>-0.039067</td>\n",
              "      <td>-0.158130</td>\n",
              "      <td>-0.050313</td>\n",
              "      <td>0.018623</td>\n",
              "      <td>-0.029691</td>\n",
              "      <td>0.091430</td>\n",
              "      <td>0.053272</td>\n",
              "      <td>0.076350</td>\n",
              "      <td>0.056071</td>\n",
              "      <td>-0.142169</td>\n",
              "      <td>0.269082</td>\n",
              "      <td>0.201255</td>\n",
              "      <td>0.462758</td>\n",
              "      <td>0.470754</td>\n",
              "      <td>0.176802</td>\n",
              "      <td>-0.001604</td>\n",
              "      <td>1.000000</td>\n",
              "      <td>0.533407</td>\n",
              "      <td>0.003437</td>\n",
              "    </tr>\n",
              "    <tr>\n",
              "      <th>weeks_worked_in_year</th>\n",
              "      <td>0.206619</td>\n",
              "      <td>0.098173</td>\n",
              "      <td>0.753862</td>\n",
              "      <td>0.647926</td>\n",
              "      <td>0.096382</td>\n",
              "      <td>0.192913</td>\n",
              "      <td>0.006669</td>\n",
              "      <td>-0.156668</td>\n",
              "      <td>-0.073763</td>\n",
              "      <td>0.033957</td>\n",
              "      <td>-0.041070</td>\n",
              "      <td>0.023981</td>\n",
              "      <td>0.087241</td>\n",
              "      <td>0.102828</td>\n",
              "      <td>0.018427</td>\n",
              "      <td>-0.128332</td>\n",
              "      <td>0.166597</td>\n",
              "      <td>0.123318</td>\n",
              "      <td>0.746241</td>\n",
              "      <td>0.299207</td>\n",
              "      <td>0.264433</td>\n",
              "      <td>-0.000063</td>\n",
              "      <td>0.533407</td>\n",
              "      <td>1.000000</td>\n",
              "      <td>0.007005</td>\n",
              "    </tr>\n",
              "    <tr>\n",
              "      <th>year</th>\n",
              "      <td>0.004231</td>\n",
              "      <td>-0.000721</td>\n",
              "      <td>0.004907</td>\n",
              "      <td>-0.001473</td>\n",
              "      <td>-0.000482</td>\n",
              "      <td>0.000336</td>\n",
              "      <td>-0.001638</td>\n",
              "      <td>-0.003452</td>\n",
              "      <td>-0.002803</td>\n",
              "      <td>-0.000622</td>\n",
              "      <td>-0.002232</td>\n",
              "      <td>0.173348</td>\n",
              "      <td>0.003494</td>\n",
              "      <td>-0.001823</td>\n",
              "      <td>0.002385</td>\n",
              "      <td>-0.002234</td>\n",
              "      <td>0.000235</td>\n",
              "      <td>0.000157</td>\n",
              "      <td>0.021001</td>\n",
              "      <td>0.000223</td>\n",
              "      <td>0.010837</td>\n",
              "      <td>-0.001723</td>\n",
              "      <td>0.003437</td>\n",
              "      <td>0.007005</td>\n",
              "      <td>1.000000</td>\n",
              "    </tr>\n",
              "  </tbody>\n",
              "</table>\n",
              "</div>"
            ],
            "text/plain": [
              "                                       age  ...      year\n",
              "age                               1.000000  ...  0.004231\n",
              "class_of_worker                   0.018708  ... -0.000721\n",
              "industry_code                     0.158182  ...  0.004907\n",
              "occupation_code                   0.114145  ... -0.001473\n",
              "education                         0.005507  ... -0.000482\n",
              "wage_per_hour                     0.035395  ...  0.000336\n",
              "enrolled_in_edu_inst_lastwk       0.039206  ... -0.001638\n",
              "marital_status                   -0.119514  ... -0.003452\n",
              "major_industry_code              -0.027801  ... -0.002803\n",
              "major_occupation_code             0.001073  ... -0.000622\n",
              "member_of_labor_union            -0.008503  ... -0.002232\n",
              "full_parttime_employment_stat     0.063098  ...  0.173348\n",
              "capital_gains                     0.055206  ...  0.003494\n",
              "capital_losses                    0.064830  ... -0.001823\n",
              "dividend_from_Stocks              0.107224  ...  0.002385\n",
              "tax_filer_status                 -0.140949  ... -0.002234\n",
              "d_household_family_stat           0.271784  ...  0.000235\n",
              "d_household_summary               0.226103  ...  0.000157\n",
              "num_person_Worked_employer        0.140495  ...  0.021001\n",
              "family_members_under_18           0.384767  ...  0.000223\n",
              "business_or_self_employed        -0.001813  ...  0.010837\n",
              "fill_questionnaire_veteran_admin -0.008607  ... -0.001723\n",
              "veterans_benefits                 0.673449  ...  0.003437\n",
              "weeks_worked_in_year              0.206619  ...  0.007005\n",
              "year                              0.004231  ...  1.000000\n",
              "\n",
              "[25 rows x 25 columns]"
            ]
          },
          "metadata": {
            "tags": []
          },
          "execution_count": 55
        }
      ]
    },
    {
      "cell_type": "code",
      "metadata": {
        "id": "uLVNVU6xsGvz",
        "colab_type": "code",
        "colab": {
          "base_uri": "https://localhost:8080/",
          "height": 297
        },
        "outputId": "1cb73175-a522-4b64-ec45-49ee9f7a38c6"
      },
      "source": [
        "sns.regplot('enrolled_in_edu_inst_lastwk','class_of_worker',data=X)"
      ],
      "execution_count": 57,
      "outputs": [
        {
          "output_type": "execute_result",
          "data": {
            "text/plain": [
              "<matplotlib.axes._subplots.AxesSubplot at 0x7faa8ebf1c50>"
            ]
          },
          "metadata": {
            "tags": []
          },
          "execution_count": 57
        },
        {
          "output_type": "display_data",
          "data": {
            "image/png": "[encoded data removed]",
            "text/plain": [
              "<Figure size 432x288 with 1 Axes>"
            ]
          },
          "metadata": {
            "tags": [],
            "needs_background": "light"
          }
        }
      ]
    },
    {
      "cell_type": "code",
      "metadata": {
        "id": "yqP40VwPsl5Z",
        "colab_type": "code",
        "colab": {
          "base_uri": "https://localhost:8080/",
          "height": 769
        },
        "outputId": "eb1c38bd-3a5b-4ec8-ab8f-b8fecd324664"
      },
      "source": [
        "figure=plt.figure(figsize=(10,10))\n",
        "sns.heatmap(X.corr(),annot=True)"
      ],
      "execution_count": 67,
      "outputs": [
        {
          "output_type": "execute_result",
          "data": {
            "text/plain": [
              "<matplotlib.axes._subplots.AxesSubplot at 0x7faa7d251c50>"
            ]
          },
          "metadata": {
            "tags": []
          },
          "execution_count": 67
        },
        {
          "output_type": "display_data",
          "data": {
            "image/png": "[encoded data removed]",
            "text/plain": [
              "<Figure size 720x720 with 2 Axes>"
            ]
          },
          "metadata": {
            "tags": [],
            "needs_background": "light"
          }
        }
      ]
    },
    {
      "cell_type": "code",
      "metadata": {
        "id": "pBK5fNDjvdLf",
        "colab_type": "code",
        "colab": {
          "base_uri": "https://localhost:8080/",
          "height": 297
        },
        "outputId": "537455b7-89a4-4684-d135-88dee78cd954"
      },
      "source": [
        "sns.distplot(y)"
      ],
      "execution_count": 69,
      "outputs": [
        {
          "output_type": "execute_result",
          "data": {
            "text/plain": [
              "<matplotlib.axes._subplots.AxesSubplot at 0x7faa7cfa2780>"
            ]
          },
          "metadata": {
            "tags": []
          },
          "execution_count": 69
        },
        {
          "output_type": "display_data",
          "data": {
            "image/png": "[encoded data removed]",
            "text/plain": [
              "<Figure size 432x288 with 1 Axes>"
            ]
          },
          "metadata": {
            "tags": [],
            "needs_background": "light"
          }
        }
      ]
    },
    {
      "cell_type": "code",
      "metadata": {
        "id": "F3veez4CwDSH",
        "colab_type": "code",
        "colab": {}
      },
      "source": [
        "X_train, X_test, y_train, y_test = train_test_split(\n",
        "...     X, y, test_size=0.33, random_state=42)"
      ],
      "execution_count": 71,
      "outputs": []
    },
    {
      "cell_type": "code",
      "metadata": {
        "id": "stmk0nmXwXAz",
        "colab_type": "code",
        "colab": {}
      },
      "source": [
        "model = RandomForestClassifier()"
      ],
      "execution_count": 159,
      "outputs": []
    },
    {
      "cell_type": "code",
      "metadata": {
        "id": "OSlPJZb57cqg",
        "colab_type": "code",
        "colab": {}
      },
      "source": [
        "model1=SVC()"
      ],
      "execution_count": 128,
      "outputs": []
    },
    {
      "cell_type": "code",
      "metadata": {
        "id": "xWsdH85p92Qz",
        "colab_type": "code",
        "colab": {}
      },
      "source": [
        "model2=DecisionTreeClassifier()"
      ],
      "execution_count": 132,
      "outputs": []
    },
    {
      "cell_type": "code",
      "metadata": {
        "id": "fv4f3BOE-eO_",
        "colab_type": "code",
        "colab": {}
      },
      "source": [
        "model3=LogisticRegression()"
      ],
      "execution_count": 136,
      "outputs": []
    },
    {
      "cell_type": "code",
      "metadata": {
        "id": "Z8jqXfhh_iDi",
        "colab_type": "code",
        "colab": {}
      },
      "source": [
        "model4 = KNeighborsClassifier(n_neighbors=3)"
      ],
      "execution_count": 147,
      "outputs": []
    },
    {
      "cell_type": "code",
      "metadata": {
        "id": "vAXX3thGwkR2",
        "colab_type": "code",
        "colab": {
          "base_uri": "https://localhost:8080/",
          "height": 156
        },
        "outputId": "a06b49a1-f5db-4344-aadf-2258db1fdb92"
      },
      "source": [
        "model.fit(X_train,y_train)"
      ],
      "execution_count": 160,
      "outputs": [
        {
          "output_type": "execute_result",
          "data": {
            "text/plain": [
              "RandomForestClassifier(bootstrap=True, ccp_alpha=0.0, class_weight=None,\n",
              "                       criterion='gini', max_depth=None, max_features='auto',\n",
              "                       max_leaf_nodes=None, max_samples=None,\n",
              "                       min_impurity_decrease=0.0, min_impurity_split=None,\n",
              "                       min_samples_leaf=1, min_samples_split=2,\n",
              "                       min_weight_fraction_leaf=0.0, n_estimators=100,\n",
              "                       n_jobs=None, oob_score=False, random_state=None,\n",
              "                       verbose=0, warm_start=False)"
            ]
          },
          "metadata": {
            "tags": []
          },
          "execution_count": 160
        }
      ]
    },
    {
      "cell_type": "code",
      "metadata": {
        "id": "8LpnVykp7lhf",
        "colab_type": "code",
        "colab": {
          "base_uri": "https://localhost:8080/",
          "height": 87
        },
        "outputId": "f510c5d8-f8a7-4a0e-d21a-8bac4c3d9962"
      },
      "source": [
        "model1.fit(X_train,y_train)"
      ],
      "execution_count": 129,
      "outputs": [
        {
          "output_type": "execute_result",
          "data": {
            "text/plain": [
              "SVC(C=1.0, break_ties=False, cache_size=200, class_weight=None, coef0=0.0,\n",
              "    decision_function_shape='ovr', degree=3, gamma='scale', kernel='rbf',\n",
              "    max_iter=-1, probability=False, random_state=None, shrinking=True,\n",
              "    tol=0.001, verbose=False)"
            ]
          },
          "metadata": {
            "tags": []
          },
          "execution_count": 129
        }
      ]
    },
    {
      "cell_type": "code",
      "metadata": {
        "id": "Cd-E497v-Bal",
        "colab_type": "code",
        "colab": {
          "base_uri": "https://localhost:8080/",
          "height": 121
        },
        "outputId": "fbe25283-76c9-4ada-a53f-9832fa12868a"
      },
      "source": [
        "model2.fit(X_train,y_train)"
      ],
      "execution_count": 133,
      "outputs": [
        {
          "output_type": "execute_result",
          "data": {
            "text/plain": [
              "DecisionTreeClassifier(ccp_alpha=0.0, class_weight=None, criterion='gini',\n",
              "                       max_depth=None, max_features=None, max_leaf_nodes=None,\n",
              "                       min_impurity_decrease=0.0, min_impurity_split=None,\n",
              "                       min_samples_leaf=1, min_samples_split=2,\n",
              "                       min_weight_fraction_leaf=0.0, presort='deprecated',\n",
              "                       random_state=None, splitter='best')"
            ]
          },
          "metadata": {
            "tags": []
          },
          "execution_count": 133
        }
      ]
    },
    {
      "cell_type": "code",
      "metadata": {
        "id": "W4ugbLVY-mAO",
        "colab_type": "code",
        "colab": {
          "base_uri": "https://localhost:8080/",
          "height": 243
        },
        "outputId": "5475ed7b-9ad4-4c63-cd99-93e4395ae981"
      },
      "source": [
        "model3.fit(X_train,y_train)"
      ],
      "execution_count": 137,
      "outputs": [
        {
          "output_type": "stream",
          "text": [
            "/usr/local/lib/python3.6/dist-packages/sklearn/linear_model/_logistic.py:940: ConvergenceWarning: lbfgs failed to converge (status=1):\n",
            "STOP: TOTAL NO. of ITERATIONS REACHED LIMIT.\n",
            "\n",
            "Increase the number of iterations (max_iter) or scale the data as shown in:\n",
            "    https://scikit-learn.org/stable/modules/preprocessing.html\n",
            "Please also refer to the documentation for alternative solver options:\n",
            "    https://scikit-learn.org/stable/modules/linear_model.html#logistic-regression\n",
            "  extra_warning_msg=_LOGISTIC_SOLVER_CONVERGENCE_MSG)\n"
          ],
          "name": "stderr"
        },
        {
          "output_type": "execute_result",
          "data": {
            "text/plain": [
              "LogisticRegression(C=1.0, class_weight=None, dual=False, fit_intercept=True,\n",
              "                   intercept_scaling=1, l1_ratio=None, max_iter=100,\n",
              "                   multi_class='auto', n_jobs=None, penalty='l2',\n",
              "                   random_state=None, solver='lbfgs', tol=0.0001, verbose=0,\n",
              "                   warm_start=False)"
            ]
          },
          "metadata": {
            "tags": []
          },
          "execution_count": 137
        }
      ]
    },
    {
      "cell_type": "code",
      "metadata": {
        "id": "VODczBnu_gxz",
        "colab_type": "code",
        "colab": {
          "base_uri": "https://localhost:8080/",
          "height": 69
        },
        "outputId": "c21fc421-d20f-4393-c66c-5657c644cf0a"
      },
      "source": [
        "model4.fit(X_train,y_train)"
      ],
      "execution_count": 148,
      "outputs": [
        {
          "output_type": "execute_result",
          "data": {
            "text/plain": [
              "KNeighborsClassifier(algorithm='auto', leaf_size=30, metric='minkowski',\n",
              "                     metric_params=None, n_jobs=None, n_neighbors=3, p=2,\n",
              "                     weights='uniform')"
            ]
          },
          "metadata": {
            "tags": []
          },
          "execution_count": 148
        }
      ]
    },
    {
      "cell_type": "code",
      "metadata": {
        "id": "2SatLJ6ZwutA",
        "colab_type": "code",
        "colab": {}
      },
      "source": [
        "pred=model.predict(X_test)"
      ],
      "execution_count": 161,
      "outputs": []
    },
    {
      "cell_type": "code",
      "metadata": {
        "id": "PJ30Q54k7yJC",
        "colab_type": "code",
        "colab": {}
      },
      "source": [
        "pred1=model1.predict(X_test)"
      ],
      "execution_count": 130,
      "outputs": []
    },
    {
      "cell_type": "code",
      "metadata": {
        "id": "JCKX3sjW-IWi",
        "colab_type": "code",
        "colab": {}
      },
      "source": [
        "pred2=model2.predict(X_test)\n",
        "\n",
        "\n"
      ],
      "execution_count": 134,
      "outputs": []
    },
    {
      "cell_type": "code",
      "metadata": {
        "id": "-EqVRrQo-uTN",
        "colab_type": "code",
        "colab": {}
      },
      "source": [
        "pred3=model3.predict(X_test)"
      ],
      "execution_count": 138,
      "outputs": []
    },
    {
      "cell_type": "code",
      "metadata": {
        "id": "IYVickQyACA3",
        "colab_type": "code",
        "colab": {}
      },
      "source": [
        "pred4=model4.predict(X_test)"
      ],
      "execution_count": 145,
      "outputs": []
    },
    {
      "cell_type": "code",
      "metadata": {
        "id": "hQHnkmuHw9Eg",
        "colab_type": "code",
        "colab": {
          "base_uri": "https://localhost:8080/",
          "height": 35
        },
        "outputId": "ec28a55c-2e86-4148-d5ee-4c15c445ee7f"
      },
      "source": [
        "model.predict(X_test[:10])"
      ],
      "execution_count": 77,
      "outputs": [
        {
          "output_type": "execute_result",
          "data": {
            "text/plain": [
              "array([0, 0, 0, 0, 0, 0, 0, 0, 0, 0])"
            ]
          },
          "metadata": {
            "tags": []
          },
          "execution_count": 77
        }
      ]
    },
    {
      "cell_type": "code",
      "metadata": {
        "id": "rJHkIItjxEJv",
        "colab_type": "code",
        "colab": {
          "base_uri": "https://localhost:8080/",
          "height": 208
        },
        "outputId": "9d7da5f7-664c-4675-f78d-31ed3c2ebd04"
      },
      "source": [
        "y_test[:10]"
      ],
      "execution_count": 78,
      "outputs": [
        {
          "output_type": "execute_result",
          "data": {
            "text/plain": [
              "119737    0\n",
              "72272     0\n",
              "158154    0\n",
              "65426     0\n",
              "30074     1\n",
              "23677     0\n",
              "134858    0\n",
              "176418    0\n",
              "132467    1\n",
              "4082      0\n",
              "Name: income_level, dtype: int64"
            ]
          },
          "metadata": {
            "tags": []
          },
          "execution_count": 78
        }
      ]
    },
    {
      "cell_type": "code",
      "metadata": {
        "id": "Gs6fktqExJoz",
        "colab_type": "code",
        "colab": {}
      },
      "source": [
        "from sklearn.metrics import f1_score"
      ],
      "execution_count": 82,
      "outputs": []
    },
    {
      "cell_type": "code",
      "metadata": {
        "id": "N6feBI9GxbC2",
        "colab_type": "code",
        "colab": {
          "base_uri": "https://localhost:8080/",
          "height": 35
        },
        "outputId": "5cb9b29d-fd94-4cc1-ef5d-d57bb47ac3dd"
      },
      "source": [
        "print(f1_score(y_test,pred,average='weighted'))"
      ],
      "execution_count": 162,
      "outputs": [
        {
          "output_type": "stream",
          "text": [
            "0.9392369716491222\n"
          ],
          "name": "stdout"
        }
      ]
    },
    {
      "cell_type": "code",
      "metadata": {
        "id": "6OcClHqr9hgi",
        "colab_type": "code",
        "colab": {
          "base_uri": "https://localhost:8080/",
          "height": 35
        },
        "outputId": "79ea1035-f57c-48bd-b670-49436ae931a0"
      },
      "source": [
        "print(f1_score(y_test,pred1,average='weighted'))"
      ],
      "execution_count": 131,
      "outputs": [
        {
          "output_type": "stream",
          "text": [
            "0.913753647163045\n"
          ],
          "name": "stdout"
        }
      ]
    },
    {
      "cell_type": "code",
      "metadata": {
        "id": "A-qCBzeV-Q_8",
        "colab_type": "code",
        "colab": {
          "base_uri": "https://localhost:8080/",
          "height": 35
        },
        "outputId": "efb79e22-c7da-4fd0-8a29-471452ec6fd2"
      },
      "source": [
        "print(f1_score(y_test,pred2,average='weighted'))"
      ],
      "execution_count": 135,
      "outputs": [
        {
          "output_type": "stream",
          "text": [
            "0.9206846621555782\n"
          ],
          "name": "stdout"
        }
      ]
    },
    {
      "cell_type": "code",
      "metadata": {
        "id": "WJKYLV87-0OI",
        "colab_type": "code",
        "colab": {
          "base_uri": "https://localhost:8080/",
          "height": 35
        },
        "outputId": "f6864386-348b-45db-ae86-7a4020a7c43b"
      },
      "source": [
        "print(f1_score(y_test,pred3,average='weighted'))"
      ],
      "execution_count": 139,
      "outputs": [
        {
          "output_type": "stream",
          "text": [
            "0.9197649553502232\n"
          ],
          "name": "stdout"
        }
      ]
    },
    {
      "cell_type": "code",
      "metadata": {
        "id": "CYTjSPHOA8Bs",
        "colab_type": "code",
        "colab": {
          "base_uri": "https://localhost:8080/",
          "height": 35
        },
        "outputId": "e4237179-f59a-4fac-ab6c-9a326c359948"
      },
      "source": [
        "print(f1_score(y_test,pred4,average='weighted'))"
      ],
      "execution_count": 149,
      "outputs": [
        {
          "output_type": "stream",
          "text": [
            "0.9312990493259014\n"
          ],
          "name": "stdout"
        }
      ]
    },
    {
      "cell_type": "code",
      "metadata": {
        "id": "Fm5RwAxoydFr",
        "colab_type": "code",
        "colab": {}
      },
      "source": [
        "from sklearn.metrics import accuracy_score"
      ],
      "execution_count": 107,
      "outputs": []
    },
    {
      "cell_type": "code",
      "metadata": {
        "id": "c7xwMy4zzBiS",
        "colab_type": "code",
        "colab": {
          "base_uri": "https://localhost:8080/",
          "height": 35
        },
        "outputId": "159e8876-bcc6-494c-d249-1f0c1fe2c068"
      },
      "source": [
        "print(accuracy_score(y_test,pred))"
      ],
      "execution_count": 108,
      "outputs": [
        {
          "output_type": "stream",
          "text": [
            "0.9453636363636364\n"
          ],
          "name": "stdout"
        }
      ]
    },
    {
      "cell_type": "code",
      "metadata": {
        "id": "Nlz9u4bNzI5d",
        "colab_type": "code",
        "colab": {}
      },
      "source": [
        "from sklearn.metrics import confusion_matrix"
      ],
      "execution_count": 88,
      "outputs": []
    },
    {
      "cell_type": "code",
      "metadata": {
        "id": "isSvTPIqzX5j",
        "colab_type": "code",
        "colab": {}
      },
      "source": [
        "con_m=confusion_matrix(y_test,pred)"
      ],
      "execution_count": 163,
      "outputs": []
    },
    {
      "cell_type": "code",
      "metadata": {
        "id": "hy2RImADzqmN",
        "colab_type": "code",
        "colab": {
          "base_uri": "https://localhost:8080/",
          "height": 285
        },
        "outputId": "2cfddfe1-b668-4432-fdbc-b38d2d37222e"
      },
      "source": [
        "sns.heatmap(con_m,annot=True)"
      ],
      "execution_count": 164,
      "outputs": [
        {
          "output_type": "execute_result",
          "data": {
            "text/plain": [
              "<matplotlib.axes._subplots.AxesSubplot at 0x7faa7c125470>"
            ]
          },
          "metadata": {
            "tags": []
          },
          "execution_count": 164
        },
        {
          "output_type": "display_data",
          "data": {
            "image/png": "[encoded data removed]",
            "text/plain": [
              "<Figure size 432x288 with 2 Axes>"
            ]
          },
          "metadata": {
            "tags": [],
            "needs_background": "light"
          }
        }
      ]
    },
    {
      "cell_type": "code",
      "metadata": {
        "id": "-2mWxSGvzyDl",
        "colab_type": "code",
        "colab": {
          "base_uri": "https://localhost:8080/",
          "height": 52
        },
        "outputId": "2ccdc760-88d6-4478-932c-11fbccffa27f"
      },
      "source": [
        "print(con_m)"
      ],
      "execution_count": 112,
      "outputs": [
        {
          "output_type": "stream",
          "text": [
            "[[60246   834]\n",
            " [ 2772  2148]]\n"
          ],
          "name": "stdout"
        }
      ]
    },
    {
      "cell_type": "code",
      "metadata": {
        "id": "FgyGqPnXz8ca",
        "colab_type": "code",
        "colab": {}
      },
      "source": [
        "from sklearn.metrics import classification_report"
      ],
      "execution_count": 165,
      "outputs": []
    },
    {
      "cell_type": "code",
      "metadata": {
        "id": "isR7LK2L0tkG",
        "colab_type": "code",
        "colab": {
          "base_uri": "https://localhost:8080/",
          "height": 173
        },
        "outputId": "77acbac6-1523-4df0-98dd-77bf5824d0fd"
      },
      "source": [
        "print(classification_report(y_test,pred))"
      ],
      "execution_count": 166,
      "outputs": [
        {
          "output_type": "stream",
          "text": [
            "              precision    recall  f1-score   support\n",
            "\n",
            "           0       0.96      0.99      0.97     61080\n",
            "           1       0.72      0.44      0.54      4920\n",
            "\n",
            "    accuracy                           0.95     66000\n",
            "   macro avg       0.84      0.71      0.76     66000\n",
            "weighted avg       0.94      0.95      0.94     66000\n",
            "\n"
          ],
          "name": "stdout"
        }
      ]
    },
    {
      "cell_type": "code",
      "metadata": {
        "id": "OSmx423x0yrg",
        "colab_type": "code",
        "colab": {}
      },
      "source": [
        "census_eval = pd.read_csv(\"https://raw.githubusercontent.com/dphi-official/Datasets/master/Census_Income/Testing_set_census.csv\" )"
      ],
      "execution_count": 114,
      "outputs": []
    },
    {
      "cell_type": "code",
      "metadata": {
        "id": "q-5r6AQi237I",
        "colab_type": "code",
        "colab": {
          "base_uri": "https://localhost:8080/",
          "height": 832
        },
        "outputId": "dbfbec06-e9e0-4594-c15f-c1a1bbaddd7e"
      },
      "source": [
        "census_eval.info()"
      ],
      "execution_count": 115,
      "outputs": [
        {
          "output_type": "stream",
          "text": [
            "<class 'pandas.core.frame.DataFrame'>\n",
            "RangeIndex: 50000 entries, 0 to 49999\n",
            "Data columns (total 40 columns):\n",
            " #   Column                            Non-Null Count  Dtype \n",
            "---  ------                            --------------  ----- \n",
            " 0   age                               50000 non-null  int64 \n",
            " 1   class_of_worker                   50000 non-null  object\n",
            " 2   industry_code                     50000 non-null  int64 \n",
            " 3   occupation_code                   50000 non-null  int64 \n",
            " 4   education                         50000 non-null  object\n",
            " 5   wage_per_hour                     50000 non-null  int64 \n",
            " 6   enrolled_in_edu_inst_lastwk       50000 non-null  object\n",
            " 7   marital_status                    50000 non-null  object\n",
            " 8   major_industry_code               50000 non-null  object\n",
            " 9   major_occupation_code             50000 non-null  object\n",
            " 10  race                              50000 non-null  object\n",
            " 11  hispanic_origin                   49854 non-null  object\n",
            " 12  sex                               50000 non-null  object\n",
            " 13  member_of_labor_union             50000 non-null  object\n",
            " 14  reason_for_unemployment           50000 non-null  object\n",
            " 15  full_parttime_employment_stat     50000 non-null  object\n",
            " 16  capital_gains                     50000 non-null  int64 \n",
            " 17  capital_losses                    50000 non-null  int64 \n",
            " 18  dividend_from_Stocks              50000 non-null  int64 \n",
            " 19  tax_filer_status                  50000 non-null  object\n",
            " 20  region_of_previous_residence      50000 non-null  object\n",
            " 21  state_of_previous_residence       49883 non-null  object\n",
            " 22  d_household_family_stat           50000 non-null  object\n",
            " 23  d_household_summary               50000 non-null  object\n",
            " 24  migration_msa                     33276 non-null  object\n",
            " 25  migration_reg                     33276 non-null  object\n",
            " 26  migration_within_reg              33276 non-null  object\n",
            " 27  live_1_year_ago                   50000 non-null  object\n",
            " 28  migration_sunbelt                 33276 non-null  object\n",
            " 29  num_person_Worked_employer        50000 non-null  int64 \n",
            " 30  family_members_under_18           50000 non-null  object\n",
            " 31  country_father                    48915 non-null  object\n",
            " 32  country_mother                    49015 non-null  object\n",
            " 33  country_self                      49481 non-null  object\n",
            " 34  citizenship                       50000 non-null  object\n",
            " 35  business_or_self_employed         50000 non-null  int64 \n",
            " 36  fill_questionnaire_veteran_admin  50000 non-null  object\n",
            " 37  veterans_benefits                 50000 non-null  int64 \n",
            " 38  weeks_worked_in_year              50000 non-null  int64 \n",
            " 39  year                              50000 non-null  int64 \n",
            "dtypes: int64(12), object(28)\n",
            "memory usage: 15.3+ MB\n"
          ],
          "name": "stdout"
        }
      ]
    },
    {
      "cell_type": "code",
      "metadata": {
        "id": "VnbTAwcF27zX",
        "colab_type": "code",
        "colab": {
          "base_uri": "https://localhost:8080/",
          "height": 728
        },
        "outputId": "c03f3536-05dc-4754-a6f3-23ccadadf00d"
      },
      "source": [
        "census_eval.isnull().sum()"
      ],
      "execution_count": 116,
      "outputs": [
        {
          "output_type": "execute_result",
          "data": {
            "text/plain": [
              "age                                     0\n",
              "class_of_worker                         0\n",
              "industry_code                           0\n",
              "occupation_code                         0\n",
              "education                               0\n",
              "wage_per_hour                           0\n",
              "enrolled_in_edu_inst_lastwk             0\n",
              "marital_status                          0\n",
              "major_industry_code                     0\n",
              "major_occupation_code                   0\n",
              "race                                    0\n",
              "hispanic_origin                       146\n",
              "sex                                     0\n",
              "member_of_labor_union                   0\n",
              "reason_for_unemployment                 0\n",
              "full_parttime_employment_stat           0\n",
              "capital_gains                           0\n",
              "capital_losses                          0\n",
              "dividend_from_Stocks                    0\n",
              "tax_filer_status                        0\n",
              "region_of_previous_residence            0\n",
              "state_of_previous_residence           117\n",
              "d_household_family_stat                 0\n",
              "d_household_summary                     0\n",
              "migration_msa                       16724\n",
              "migration_reg                       16724\n",
              "migration_within_reg                16724\n",
              "live_1_year_ago                         0\n",
              "migration_sunbelt                   16724\n",
              "num_person_Worked_employer              0\n",
              "family_members_under_18                 0\n",
              "country_father                       1085\n",
              "country_mother                        985\n",
              "country_self                          519\n",
              "citizenship                             0\n",
              "business_or_self_employed               0\n",
              "fill_questionnaire_veteran_admin        0\n",
              "veterans_benefits                       0\n",
              "weeks_worked_in_year                    0\n",
              "year                                    0\n",
              "dtype: int64"
            ]
          },
          "metadata": {
            "tags": []
          },
          "execution_count": 116
        }
      ]
    },
    {
      "cell_type": "code",
      "metadata": {
        "id": "0XxO_Q9I3Gzb",
        "colab_type": "code",
        "colab": {}
      },
      "source": [
        "cols_drop = ['hispanic_origin','state_of_previous_residence','migration_msa','migration_reg','migration_within_reg','migration_sunbelt','country_father','country_mother','country_self']"
      ],
      "execution_count": 118,
      "outputs": []
    },
    {
      "cell_type": "code",
      "metadata": {
        "id": "tm-bCr5M3Ofb",
        "colab_type": "code",
        "colab": {}
      },
      "source": [
        "X1=census_eval.drop(cols_drop,axis=1)"
      ],
      "execution_count": 120,
      "outputs": []
    },
    {
      "cell_type": "code",
      "metadata": {
        "id": "x0fv_5ld4IGw",
        "colab_type": "code",
        "colab": {}
      },
      "source": [
        "X1=X1.drop(['race','sex','reason_for_unemployment','region_of_previous_residence','live_1_year_ago','citizenship'],axis=1)"
      ],
      "execution_count": 121,
      "outputs": []
    },
    {
      "cell_type": "code",
      "metadata": {
        "id": "_7SJ1U4n4cH-",
        "colab_type": "code",
        "colab": {
          "base_uri": "https://localhost:8080/",
          "height": 468
        },
        "outputId": "0aaef352-1f86-41d9-e408-798019416da0"
      },
      "source": [
        "X1.isnull().any()"
      ],
      "execution_count": 122,
      "outputs": [
        {
          "output_type": "execute_result",
          "data": {
            "text/plain": [
              "age                                 False\n",
              "class_of_worker                     False\n",
              "industry_code                       False\n",
              "occupation_code                     False\n",
              "education                           False\n",
              "wage_per_hour                       False\n",
              "enrolled_in_edu_inst_lastwk         False\n",
              "marital_status                      False\n",
              "major_industry_code                 False\n",
              "major_occupation_code               False\n",
              "member_of_labor_union               False\n",
              "full_parttime_employment_stat       False\n",
              "capital_gains                       False\n",
              "capital_losses                      False\n",
              "dividend_from_Stocks                False\n",
              "tax_filer_status                    False\n",
              "d_household_family_stat             False\n",
              "d_household_summary                 False\n",
              "num_person_Worked_employer          False\n",
              "family_members_under_18             False\n",
              "business_or_self_employed           False\n",
              "fill_questionnaire_veteran_admin    False\n",
              "veterans_benefits                   False\n",
              "weeks_worked_in_year                False\n",
              "year                                False\n",
              "dtype: bool"
            ]
          },
          "metadata": {
            "tags": []
          },
          "execution_count": 122
        }
      ]
    },
    {
      "cell_type": "code",
      "metadata": {
        "id": "PSQxr0L_4qHA",
        "colab_type": "code",
        "colab": {}
      },
      "source": [
        "X1['class_of_worker']=le.fit_transform(X1['class_of_worker'])\n",
        "X1['education']=le.fit_transform(X1['education'])\n",
        "X1['enrolled_in_edu_inst_lastwk']=le.fit_transform(X1['enrolled_in_edu_inst_lastwk'])\n",
        "X1['marital_status']=le.fit_transform(X1['marital_status'])\n",
        "X1['major_industry_code']=le.fit_transform(X1['major_industry_code'])\n",
        "\n",
        "X1['major_occupation_code']=le.fit_transform(X1['major_occupation_code'])\n",
        "X1['member_of_labor_union']=le.fit_transform(X1['member_of_labor_union'])\n",
        "X1['full_parttime_employment_stat']=le.fit_transform(X1['full_parttime_employment_stat'])\n",
        "X1['tax_filer_status']=le.fit_transform(X1['tax_filer_status'])\n",
        "\n",
        "X1['d_household_family_stat']=le.fit_transform(X1['d_household_family_stat'])\n",
        "X1['d_household_summary']=le.fit_transform(X1['d_household_summary'])\n",
        "X1['family_members_under_18']=le.fit_transform(X1['family_members_under_18'])\n",
        "X1['fill_questionnaire_veteran_admin']=le.fit_transform(X1['fill_questionnaire_veteran_admin'])"
      ],
      "execution_count": 123,
      "outputs": []
    },
    {
      "cell_type": "code",
      "metadata": {
        "id": "bALpvZmv5UHA",
        "colab_type": "code",
        "colab": {
          "base_uri": "https://localhost:8080/",
          "height": 222
        },
        "outputId": "36d507ff-b0f4-4369-cb52-da694607147f"
      },
      "source": [
        "X1.tail()"
      ],
      "execution_count": 124,
      "outputs": [
        {
          "output_type": "execute_result",
          "data": {
            "text/html": [
              "<div>\n",
              "<style scoped>\n",
              "    .dataframe tbody tr th:only-of-type {\n",
              "        vertical-align: middle;\n",
              "    }\n",
              "\n",
              "    .dataframe tbody tr th {\n",
              "        vertical-align: top;\n",
              "    }\n",
              "\n",
              "    .dataframe thead th {\n",
              "        text-align: right;\n",
              "    }\n",
              "</style>\n",
              "<table border=\"1\" class=\"dataframe\">\n",
              "  <thead>\n",
              "    <tr style=\"text-align: right;\">\n",
              "      <th></th>\n",
              "      <th>age</th>\n",
              "      <th>class_of_worker</th>\n",
              "      <th>industry_code</th>\n",
              "      <th>occupation_code</th>\n",
              "      <th>education</th>\n",
              "      <th>wage_per_hour</th>\n",
              "      <th>enrolled_in_edu_inst_lastwk</th>\n",
              "      <th>marital_status</th>\n",
              "      <th>major_industry_code</th>\n",
              "      <th>major_occupation_code</th>\n",
              "      <th>member_of_labor_union</th>\n",
              "      <th>full_parttime_employment_stat</th>\n",
              "      <th>capital_gains</th>\n",
              "      <th>capital_losses</th>\n",
              "      <th>dividend_from_Stocks</th>\n",
              "      <th>tax_filer_status</th>\n",
              "      <th>d_household_family_stat</th>\n",
              "      <th>d_household_summary</th>\n",
              "      <th>num_person_Worked_employer</th>\n",
              "      <th>family_members_under_18</th>\n",
              "      <th>business_or_self_employed</th>\n",
              "      <th>fill_questionnaire_veteran_admin</th>\n",
              "      <th>veterans_benefits</th>\n",
              "      <th>weeks_worked_in_year</th>\n",
              "      <th>year</th>\n",
              "    </tr>\n",
              "  </thead>\n",
              "  <tbody>\n",
              "    <tr>\n",
              "      <th>49995</th>\n",
              "      <td>2</td>\n",
              "      <td>3</td>\n",
              "      <td>0</td>\n",
              "      <td>0</td>\n",
              "      <td>10</td>\n",
              "      <td>0</td>\n",
              "      <td>2</td>\n",
              "      <td>4</td>\n",
              "      <td>14</td>\n",
              "      <td>6</td>\n",
              "      <td>1</td>\n",
              "      <td>0</td>\n",
              "      <td>0</td>\n",
              "      <td>0</td>\n",
              "      <td>0</td>\n",
              "      <td>4</td>\n",
              "      <td>8</td>\n",
              "      <td>2</td>\n",
              "      <td>0</td>\n",
              "      <td>0</td>\n",
              "      <td>0</td>\n",
              "      <td>1</td>\n",
              "      <td>0</td>\n",
              "      <td>0</td>\n",
              "      <td>94</td>\n",
              "    </tr>\n",
              "    <tr>\n",
              "      <th>49996</th>\n",
              "      <td>42</td>\n",
              "      <td>4</td>\n",
              "      <td>26</td>\n",
              "      <td>38</td>\n",
              "      <td>12</td>\n",
              "      <td>0</td>\n",
              "      <td>2</td>\n",
              "      <td>2</td>\n",
              "      <td>11</td>\n",
              "      <td>14</td>\n",
              "      <td>1</td>\n",
              "      <td>0</td>\n",
              "      <td>0</td>\n",
              "      <td>0</td>\n",
              "      <td>0</td>\n",
              "      <td>2</td>\n",
              "      <td>14</td>\n",
              "      <td>4</td>\n",
              "      <td>6</td>\n",
              "      <td>4</td>\n",
              "      <td>0</td>\n",
              "      <td>1</td>\n",
              "      <td>2</td>\n",
              "      <td>52</td>\n",
              "      <td>94</td>\n",
              "    </tr>\n",
              "    <tr>\n",
              "      <th>49997</th>\n",
              "      <td>41</td>\n",
              "      <td>4</td>\n",
              "      <td>4</td>\n",
              "      <td>34</td>\n",
              "      <td>5</td>\n",
              "      <td>0</td>\n",
              "      <td>2</td>\n",
              "      <td>2</td>\n",
              "      <td>4</td>\n",
              "      <td>8</td>\n",
              "      <td>1</td>\n",
              "      <td>1</td>\n",
              "      <td>0</td>\n",
              "      <td>0</td>\n",
              "      <td>0</td>\n",
              "      <td>2</td>\n",
              "      <td>27</td>\n",
              "      <td>7</td>\n",
              "      <td>2</td>\n",
              "      <td>4</td>\n",
              "      <td>0</td>\n",
              "      <td>1</td>\n",
              "      <td>2</td>\n",
              "      <td>26</td>\n",
              "      <td>95</td>\n",
              "    </tr>\n",
              "    <tr>\n",
              "      <th>49998</th>\n",
              "      <td>77</td>\n",
              "      <td>12</td>\n",
              "      <td>0</td>\n",
              "      <td>0</td>\n",
              "      <td>29</td>\n",
              "      <td>0</td>\n",
              "      <td>5</td>\n",
              "      <td>9</td>\n",
              "      <td>38</td>\n",
              "      <td>21</td>\n",
              "      <td>4</td>\n",
              "      <td>8</td>\n",
              "      <td>0</td>\n",
              "      <td>0</td>\n",
              "      <td>0</td>\n",
              "      <td>10</td>\n",
              "      <td>62</td>\n",
              "      <td>15</td>\n",
              "      <td>0</td>\n",
              "      <td>9</td>\n",
              "      <td>0</td>\n",
              "      <td>4</td>\n",
              "      <td>2</td>\n",
              "      <td>0</td>\n",
              "      <td>94</td>\n",
              "    </tr>\n",
              "    <tr>\n",
              "      <th>49999</th>\n",
              "      <td>7</td>\n",
              "      <td>3</td>\n",
              "      <td>0</td>\n",
              "      <td>0</td>\n",
              "      <td>10</td>\n",
              "      <td>0</td>\n",
              "      <td>2</td>\n",
              "      <td>4</td>\n",
              "      <td>14</td>\n",
              "      <td>6</td>\n",
              "      <td>1</td>\n",
              "      <td>0</td>\n",
              "      <td>0</td>\n",
              "      <td>0</td>\n",
              "      <td>0</td>\n",
              "      <td>4</td>\n",
              "      <td>22</td>\n",
              "      <td>6</td>\n",
              "      <td>0</td>\n",
              "      <td>0</td>\n",
              "      <td>0</td>\n",
              "      <td>1</td>\n",
              "      <td>0</td>\n",
              "      <td>0</td>\n",
              "      <td>95</td>\n",
              "    </tr>\n",
              "  </tbody>\n",
              "</table>\n",
              "</div>"
            ],
            "text/plain": [
              "       age  class_of_worker  ...  weeks_worked_in_year  year\n",
              "49995    2                3  ...                     0    94\n",
              "49996   42                4  ...                    52    94\n",
              "49997   41                4  ...                    26    95\n",
              "49998   77               12  ...                     0    94\n",
              "49999    7                3  ...                     0    95\n",
              "\n",
              "[5 rows x 25 columns]"
            ]
          },
          "metadata": {
            "tags": []
          },
          "execution_count": 124
        }
      ]
    },
    {
      "cell_type": "code",
      "metadata": {
        "id": "v2GGLniG5hoi",
        "colab_type": "code",
        "colab": {}
      },
      "source": [
        "predictions=model.predict(X1)"
      ],
      "execution_count": 125,
      "outputs": []
    },
    {
      "cell_type": "code",
      "metadata": {
        "id": "OoHpHIzj5rG7",
        "colab_type": "code",
        "colab": {
          "base_uri": "https://localhost:8080/",
          "height": 17
        },
        "outputId": "cca730a1-aabf-4aa8-dc08-e0eb2e7125ad"
      },
      "source": [
        "res = pd.DataFrame(predictions) #preditcions are nothing but the final predictions of your model on input features of your new unseen test data\n",
        "res.index = X1.index # its important for comparison. Here \"test_new\" is your new test dataset\n",
        "res.columns = [\"prediction\"]\n",
        "\n",
        "# To download the csv file locally\n",
        "from google.colab import files\n",
        "res.to_csv('prediction_results_HP.csv')         \n",
        "files.download('prediction_results_HP.csv')"
      ],
      "execution_count": 127,
      "outputs": [
        {
          "output_type": "display_data",
          "data": {
            "application/javascript": [
              "\n",
              "    async function download(id, filename, size) {\n",
              "      if (!google.colab.kernel.accessAllowed) {\n",
              "        return;\n",
              "      }\n",
              "      const div = document.createElement('div');\n",
              "      const label = document.createElement('label');\n",
              "      label.textContent = `Downloading \"${filename}\": `;\n",
              "      div.appendChild(label);\n",
              "      const progress = document.createElement('progress');\n",
              "      progress.max = size;\n",
              "      div.appendChild(progress);\n",
              "      document.body.appendChild(div);\n",
              "\n",
              "      const buffers = [];\n",
              "      let downloaded = 0;\n",
              "\n",
              "      const channel = await google.colab.kernel.comms.open(id);\n",
              "      // Send a message to notify the kernel that we're ready.\n",
              "      channel.send({})\n",
              "\n",
              "      for await (const message of channel.messages) {\n",
              "        // Send a message to notify the kernel that we're ready.\n",
              "        channel.send({})\n",
              "        if (message.buffers) {\n",
              "          for (const buffer of message.buffers) {\n",
              "            buffers.push(buffer);\n",
              "            downloaded += buffer.byteLength;\n",
              "            progress.value = downloaded;\n",
              "          }\n",
              "        }\n",
              "      }\n",
              "      const blob = new Blob(buffers, {type: 'application/binary'});\n",
              "      const a = document.createElement('a');\n",
              "      a.href = window.URL.createObjectURL(blob);\n",
              "      a.download = filename;\n",
              "      div.appendChild(a);\n",
              "      a.click();\n",
              "      div.remove();\n",
              "    }\n",
              "  "
            ],
            "text/plain": [
              "<IPython.core.display.Javascript object>"
            ]
          },
          "metadata": {
            "tags": []
          }
        },
        {
          "output_type": "display_data",
          "data": {
            "application/javascript": [
              "download(\"download_47449dfc-fe79-440c-96c6-4995c1a0c5c6\", \"prediction_results_HP.csv\", 388902)"
            ],
            "text/plain": [
              "<IPython.core.display.Javascript object>"
            ]
          },
          "metadata": {
            "tags": []
          }
        }
      ]
    },
    {
      "cell_type": "code",
      "metadata": {
        "id": "zb1oXauB532l",
        "colab_type": "code",
        "colab": {}
      },
      "source": [
        ""
      ],
      "execution_count": null,
      "outputs": []
    }
  ]
}